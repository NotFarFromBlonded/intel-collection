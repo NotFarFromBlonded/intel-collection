{
 "cells": [
  {
   "cell_type": "code",
   "execution_count": 1,
   "metadata": {},
   "outputs": [
    {
     "name": "stdout",
     "output_type": "stream",
     "text": [
      "Defaulting to user installation because normal site-packages is not writeable\n",
      "Requirement already satisfied: selenium in /home/kali/.local/lib/python3.11/site-packages (4.9.1)\n",
      "Requirement already satisfied: urllib3[socks]<3,>=1.26 in /usr/lib/python3/dist-packages (from selenium) (1.26.12)\n",
      "Requirement already satisfied: trio~=0.17 in /home/kali/.local/lib/python3.11/site-packages (from selenium) (0.22.0)\n",
      "Requirement already satisfied: trio-websocket~=0.9 in /home/kali/.local/lib/python3.11/site-packages (from selenium) (0.10.2)\n",
      "Requirement already satisfied: certifi>=2021.10.8 in /usr/lib/python3/dist-packages (from selenium) (2022.9.24)\n",
      "Requirement already satisfied: attrs>=19.2.0 in /usr/lib/python3/dist-packages (from trio~=0.17->selenium) (22.2.0)\n",
      "Requirement already satisfied: sortedcontainers in /usr/lib/python3/dist-packages (from trio~=0.17->selenium) (2.4.0)\n",
      "Requirement already satisfied: async-generator>=1.9 in /home/kali/.local/lib/python3.11/site-packages (from trio~=0.17->selenium) (1.10)\n",
      "Requirement already satisfied: idna in /usr/lib/python3/dist-packages (from trio~=0.17->selenium) (3.3)\n",
      "Requirement already satisfied: outcome in /home/kali/.local/lib/python3.11/site-packages (from trio~=0.17->selenium) (1.2.0)\n",
      "Requirement already satisfied: sniffio in /usr/lib/python3/dist-packages (from trio~=0.17->selenium) (1.2.0)\n",
      "Requirement already satisfied: exceptiongroup in /home/kali/.local/lib/python3.11/site-packages (from trio-websocket~=0.9->selenium) (1.1.1)\n",
      "Requirement already satisfied: wsproto>=0.14 in /usr/lib/python3/dist-packages (from trio-websocket~=0.9->selenium) (1.2.0)\n",
      "Requirement already satisfied: PySocks!=1.5.7,<2.0,>=1.5.6 in /usr/lib/python3/dist-packages (from urllib3[socks]<3,>=1.26->selenium) (1.7.1)\n",
      "Note: you may need to restart the kernel to use updated packages.\n",
      "Defaulting to user installation because normal site-packages is not writeable\n",
      "Collecting webdriver_manager\n",
      "  Downloading webdriver_manager-3.8.6-py2.py3-none-any.whl (27 kB)\n",
      "Requirement already satisfied: requests in /usr/lib/python3/dist-packages (from webdriver_manager) (2.28.1)\n",
      "Requirement already satisfied: python-dotenv in /usr/lib/python3/dist-packages (from webdriver_manager) (0.21.0)\n",
      "Requirement already satisfied: tqdm in /usr/lib/python3/dist-packages (from webdriver_manager) (4.64.1)\n",
      "Requirement already satisfied: packaging in /usr/lib/python3/dist-packages (from webdriver_manager) (23.0)\n",
      "Installing collected packages: webdriver_manager\n",
      "Successfully installed webdriver_manager-3.8.6\n",
      "Note: you may need to restart the kernel to use updated packages.\n"
     ]
    }
   ],
   "source": [
    "%pip install selenium\n",
    "%pip install webdriver_manager"
   ]
  },
  {
   "cell_type": "code",
   "execution_count": 22,
   "metadata": {},
   "outputs": [],
   "source": [
    "from selenium import webdriver\n",
    "from webdriver_manager.chrome import ChromeDriverManager\n",
    "from selenium.webdriver.common.by import By\n",
    "from selenium.webdriver.chrome.options import Options"
   ]
  },
  {
   "cell_type": "code",
   "execution_count": 27,
   "metadata": {},
   "outputs": [
    {
     "name": "stderr",
     "output_type": "stream",
     "text": [
      "/tmp/ipykernel_27584/3651691214.py:7: DeprecationWarning: executable_path has been deprecated, please pass in a Service object\n",
      "  driver = webdriver.Chrome(ChromeDriverManager().install(), options=opts)\n"
     ]
    },
    {
     "ename": "NoSuchElementException",
     "evalue": "Message: no such element: Unable to locate element: {\"method\":\"xpath\",\"selector\":\"/html/body/pre\"}\n  (Session info: headless chrome=113.0.5672.63)\nStacktrace:\n#0 0x5596c80df133 <unknown>\n#1 0x5596c7e13966 <unknown>\n#2 0x5596c7e500dc <unknown>\n#3 0x5596c7e50211 <unknown>\n#4 0x5596c7e8a6c4 <unknown>\n#5 0x5596c7e6fbfd <unknown>\n#6 0x5596c7e881c7 <unknown>\n#7 0x5596c7e6f9a3 <unknown>\n#8 0x5596c7e4446a <unknown>\n#9 0x5596c7e4555e <unknown>\n#10 0x5596c809ecae <unknown>\n#11 0x5596c80a28fe <unknown>\n#12 0x5596c80abf20 <unknown>\n#13 0x5596c80a3923 <unknown>\n#14 0x5596c8076c0e <unknown>\n#15 0x5596c80c6b08 <unknown>\n#16 0x5596c80c6c97 <unknown>\n#17 0x5596c80d7113 <unknown>\n#18 0x7f616eda5fd4 <unknown>\n",
     "output_type": "error",
     "traceback": [
      "\u001b[0;31m---------------------------------------------------------------------------\u001b[0m",
      "\u001b[0;31mNoSuchElementException\u001b[0m                    Traceback (most recent call last)",
      "\u001b[1;32m/home/kali/dev/intel-collection/intel.ipynb Cell 3\u001b[0m in \u001b[0;36m1\n\u001b[1;32m     <a href='vscode-notebook-cell:/home/kali/dev/intel-collection/intel.ipynb#W2sZmlsZQ%3D%3D?line=14'>15</a>\u001b[0m search_button\u001b[39m.\u001b[39mclick()\n\u001b[1;32m     <a href='vscode-notebook-cell:/home/kali/dev/intel-collection/intel.ipynb#W2sZmlsZQ%3D%3D?line=15'>16</a>\u001b[0m time\u001b[39m.\u001b[39msleep(\u001b[39m1\u001b[39m)\n\u001b[0;32m---> <a href='vscode-notebook-cell:/home/kali/dev/intel-collection/intel.ipynb#W2sZmlsZQ%3D%3D?line=16'>17</a>\u001b[0m raw_data \u001b[39m=\u001b[39m driver\u001b[39m.\u001b[39;49mfind_element(By\u001b[39m.\u001b[39;49mXPATH, \u001b[39m\"\u001b[39;49m\u001b[39m/html/body/pre\u001b[39;49m\u001b[39m\"\u001b[39;49m)\n\u001b[1;32m     <a href='vscode-notebook-cell:/home/kali/dev/intel-collection/intel.ipynb#W2sZmlsZQ%3D%3D?line=17'>18</a>\u001b[0m \u001b[39mprint\u001b[39m(raw_data)\n",
      "File \u001b[0;32m~/.local/lib/python3.11/site-packages/selenium/webdriver/remote/webdriver.py:831\u001b[0m, in \u001b[0;36mWebDriver.find_element\u001b[0;34m(self, by, value)\u001b[0m\n\u001b[1;32m    828\u001b[0m     by \u001b[39m=\u001b[39m By\u001b[39m.\u001b[39mCSS_SELECTOR\n\u001b[1;32m    829\u001b[0m     value \u001b[39m=\u001b[39m \u001b[39mf\u001b[39m\u001b[39m'\u001b[39m\u001b[39m[name=\u001b[39m\u001b[39m\"\u001b[39m\u001b[39m{\u001b[39;00mvalue\u001b[39m}\u001b[39;00m\u001b[39m\"\u001b[39m\u001b[39m]\u001b[39m\u001b[39m'\u001b[39m\n\u001b[0;32m--> 831\u001b[0m \u001b[39mreturn\u001b[39;00m \u001b[39mself\u001b[39;49m\u001b[39m.\u001b[39;49mexecute(Command\u001b[39m.\u001b[39;49mFIND_ELEMENT, {\u001b[39m\"\u001b[39;49m\u001b[39musing\u001b[39;49m\u001b[39m\"\u001b[39;49m: by, \u001b[39m\"\u001b[39;49m\u001b[39mvalue\u001b[39;49m\u001b[39m\"\u001b[39;49m: value})[\u001b[39m\"\u001b[39m\u001b[39mvalue\u001b[39m\u001b[39m\"\u001b[39m]\n",
      "File \u001b[0;32m~/.local/lib/python3.11/site-packages/selenium/webdriver/remote/webdriver.py:440\u001b[0m, in \u001b[0;36mWebDriver.execute\u001b[0;34m(self, driver_command, params)\u001b[0m\n\u001b[1;32m    438\u001b[0m response \u001b[39m=\u001b[39m \u001b[39mself\u001b[39m\u001b[39m.\u001b[39mcommand_executor\u001b[39m.\u001b[39mexecute(driver_command, params)\n\u001b[1;32m    439\u001b[0m \u001b[39mif\u001b[39;00m response:\n\u001b[0;32m--> 440\u001b[0m     \u001b[39mself\u001b[39;49m\u001b[39m.\u001b[39;49merror_handler\u001b[39m.\u001b[39;49mcheck_response(response)\n\u001b[1;32m    441\u001b[0m     response[\u001b[39m\"\u001b[39m\u001b[39mvalue\u001b[39m\u001b[39m\"\u001b[39m] \u001b[39m=\u001b[39m \u001b[39mself\u001b[39m\u001b[39m.\u001b[39m_unwrap_value(response\u001b[39m.\u001b[39mget(\u001b[39m\"\u001b[39m\u001b[39mvalue\u001b[39m\u001b[39m\"\u001b[39m, \u001b[39mNone\u001b[39;00m))\n\u001b[1;32m    442\u001b[0m     \u001b[39mreturn\u001b[39;00m response\n",
      "File \u001b[0;32m~/.local/lib/python3.11/site-packages/selenium/webdriver/remote/errorhandler.py:245\u001b[0m, in \u001b[0;36mErrorHandler.check_response\u001b[0;34m(self, response)\u001b[0m\n\u001b[1;32m    243\u001b[0m         alert_text \u001b[39m=\u001b[39m value[\u001b[39m\"\u001b[39m\u001b[39malert\u001b[39m\u001b[39m\"\u001b[39m]\u001b[39m.\u001b[39mget(\u001b[39m\"\u001b[39m\u001b[39mtext\u001b[39m\u001b[39m\"\u001b[39m)\n\u001b[1;32m    244\u001b[0m     \u001b[39mraise\u001b[39;00m exception_class(message, screen, stacktrace, alert_text)  \u001b[39m# type: ignore[call-arg]  # mypy is not smart enough here\u001b[39;00m\n\u001b[0;32m--> 245\u001b[0m \u001b[39mraise\u001b[39;00m exception_class(message, screen, stacktrace)\n",
      "\u001b[0;31mNoSuchElementException\u001b[0m: Message: no such element: Unable to locate element: {\"method\":\"xpath\",\"selector\":\"/html/body/pre\"}\n  (Session info: headless chrome=113.0.5672.63)\nStacktrace:\n#0 0x5596c80df133 <unknown>\n#1 0x5596c7e13966 <unknown>\n#2 0x5596c7e500dc <unknown>\n#3 0x5596c7e50211 <unknown>\n#4 0x5596c7e8a6c4 <unknown>\n#5 0x5596c7e6fbfd <unknown>\n#6 0x5596c7e881c7 <unknown>\n#7 0x5596c7e6f9a3 <unknown>\n#8 0x5596c7e4446a <unknown>\n#9 0x5596c7e4555e <unknown>\n#10 0x5596c809ecae <unknown>\n#11 0x5596c80a28fe <unknown>\n#12 0x5596c80abf20 <unknown>\n#13 0x5596c80a3923 <unknown>\n#14 0x5596c8076c0e <unknown>\n#15 0x5596c80c6b08 <unknown>\n#16 0x5596c80c6c97 <unknown>\n#17 0x5596c80d7113 <unknown>\n#18 0x7f616eda5fd4 <unknown>\n"
     ]
    }
   ],
   "source": [
    "opts = Options()\n",
    "\n",
    "# make web scraping 'invisible' if GUI is not required\n",
    "opts.add_argument(\"--headless\")\n",
    "opts.add_argument('--no-sandbox')\n",
    "url = \"https://centralops.net/co/DomainDossier.aspx\"\n",
    "driver = webdriver.Chrome(ChromeDriverManager().install(), options=opts)\n",
    "driver.get(url)\n",
    "time.sleep(1)\n",
    "search_box = driver.find_element(By.NAME, \"addr\")\n",
    "search_box.send_keys(\"fmovies.to\")\n",
    "network_check_button = driver.find_element(By.NAME, \"net_whois\")\n",
    "network_check_button.click()\n",
    "search_button = driver.find_element(By.ID, \"go\")\n",
    "search_button.click()\n",
    "time.sleep(2)\n",
    "raw_data = driver.find_element(By.TAG_NAME, 'pre')\n",
    "print(raw_data)"
   ]
  },
  {
   "cell_type": "code",
   "execution_count": 17,
   "metadata": {},
   "outputs": [
    {
     "ename": "AttributeError",
     "evalue": "'WebDriver' object has no attribute 'find_element_by_name'",
     "output_type": "error",
     "traceback": [
      "\u001b[0;31m---------------------------------------------------------------------------\u001b[0m",
      "\u001b[0;31mAttributeError\u001b[0m                            Traceback (most recent call last)",
      "\u001b[1;32m/home/kali/dev/intel-collection/intel.ipynb Cell 4\u001b[0m in \u001b[0;36m1\n\u001b[1;32m      <a href='vscode-notebook-cell:/home/kali/dev/intel-collection/intel.ipynb#W4sZmlsZQ%3D%3D?line=6'>7</a>\u001b[0m driver\u001b[39m.\u001b[39mget(\u001b[39m\"\u001b[39m\u001b[39mhttps://centralops.net/co/DomainDossier.aspx\u001b[39m\u001b[39m\"\u001b[39m)\n\u001b[1;32m      <a href='vscode-notebook-cell:/home/kali/dev/intel-collection/intel.ipynb#W4sZmlsZQ%3D%3D?line=8'>9</a>\u001b[0m \u001b[39m# Find and fill the search box with the domain you want to look up\u001b[39;00m\n\u001b[0;32m---> <a href='vscode-notebook-cell:/home/kali/dev/intel-collection/intel.ipynb#W4sZmlsZQ%3D%3D?line=9'>10</a>\u001b[0m search_box \u001b[39m=\u001b[39m driver\u001b[39m.\u001b[39;49mfind_element_by_name(\u001b[39m\"\u001b[39m\u001b[39mctl00$ContentPlaceHolder1$DomainDossier1$LookupInput\u001b[39m\u001b[39m\"\u001b[39m)\n\u001b[1;32m     <a href='vscode-notebook-cell:/home/kali/dev/intel-collection/intel.ipynb#W4sZmlsZQ%3D%3D?line=10'>11</a>\u001b[0m search_box\u001b[39m.\u001b[39msend_keys(\u001b[39m\"\u001b[39m\u001b[39mexample.com\u001b[39m\u001b[39m\"\u001b[39m)\n\u001b[1;32m     <a href='vscode-notebook-cell:/home/kali/dev/intel-collection/intel.ipynb#W4sZmlsZQ%3D%3D?line=12'>13</a>\u001b[0m \u001b[39m# Click the search button\u001b[39;00m\n",
      "\u001b[0;31mAttributeError\u001b[0m: 'WebDriver' object has no attribute 'find_element_by_name'"
     ]
    }
   ],
   "source": [
    "from selenium import webdriver\n",
    "\n",
    "# Launch Chrome browser\n",
    "driver = webdriver.Chrome()\n",
    "\n",
    "# Navigate to WHOIS domain lookup page on CentralOps\n",
    "driver.get(\"https://centralops.net/co/DomainDossier.aspx\")\n",
    "\n",
    "# Find and fill the search box with the domain you want to look up\n",
    "search_box = driver.find_element_by_name(\"ctl00$ContentPlaceHolder1$DomainDossier1$LookupInput\")\n",
    "search_box.send_keys(\"example.com\")\n",
    "\n",
    "# Click the search button\n",
    "search_button = driver.find_element_by_name(\"ctl00$ContentPlaceHolder1$DomainDossier1$LookupButton\")\n",
    "search_button.click()\n",
    "\n",
    "# Wait for the results page to load\n",
    "driver.implicitly_wait(10)\n",
    "\n",
    "# Print the raw WHOIS data\n",
    "raw_data = driver.find_element_by_id(\"ctl00_ContentPlaceHolder1_DomainDossier1_DataBox\")\n",
    "print(raw_data.text)\n",
    "\n",
    "# Close the browser\n",
    "driver.quit()"
   ]
  },
  {
   "cell_type": "code",
   "execution_count": 14,
   "metadata": {},
   "outputs": [
    {
     "name": "stdout",
     "output_type": "stream",
     "text": [
      "URL https://youtube.com is valid\n"
     ]
    },
    {
     "ename": "ElementClickInterceptedException",
     "evalue": "Message: element click intercepted: Element <button type=\"submit\" class=\"btn btn-default\" id=\"submitBasic\" aria-label=\"Search\">...</button> is not clickable at point (587, 383). Other element would receive the click: <iframe title=\"recaptcha challenge expires in two minutes\" src=\"https://www.google.com/recaptcha/api2/bframe?hl=en&amp;v=1h-hbVSJRMOQsmO_2qL9cO0z&amp;k=6Lfhg4cUAAAAAFjbHAGu06IUpdp-PLNHhAHYCoFZ\" name=\"c-m4p50zgm4hmi\" frameborder=\"0\" scrolling=\"no\" sandbox=\"allow-forms allow-popups allow-same-origin allow-scripts allow-top-navigation allow-modals allow-popups-to-escape-sandbox\" style=\"width: 400px; height: 580px;\"></iframe>\n  (Session info: headless chrome=113.0.5672.63)\nStacktrace:\n#0 0x55ecea247133 <unknown>\n#1 0x55ece9f7b966 <unknown>\n#2 0x55ece9fbe3f2 <unknown>\n#3 0x55ece9fbc5ac <unknown>\n#4 0x55ece9fba3be <unknown>\n#5 0x55ece9fb9696 <unknown>\n#6 0x55ece9fae3ea <unknown>\n#7 0x55ece9fd7bd2 <unknown>\n#8 0x55ece9fadd13 <unknown>\n#9 0x55ece9fd7d9e <unknown>\n#10 0x55ece9ff01c7 <unknown>\n#11 0x55ece9fd79a3 <unknown>\n#12 0x55ece9fac46a <unknown>\n#13 0x55ece9fad55e <unknown>\n#14 0x55ecea206cae <unknown>\n#15 0x55ecea20a8fe <unknown>\n#16 0x55ecea213f20 <unknown>\n#17 0x55ecea20b923 <unknown>\n#18 0x55ecea1dec0e <unknown>\n#19 0x55ecea22eb08 <unknown>\n#20 0x55ecea22ec97 <unknown>\n#21 0x55ecea23f113 <unknown>\n#22 0x7fb60fb77fd4 <unknown>\n",
     "output_type": "error",
     "traceback": [
      "\u001b[0;31m---------------------------------------------------------------------------\u001b[0m",
      "\u001b[0;31mElementClickInterceptedException\u001b[0m          Traceback (most recent call last)",
      "\u001b[1;32m/home/kali/dev/intel-collection/intel.ipynb Cell 4\u001b[0m in \u001b[0;36m3\n\u001b[1;32m     <a href='vscode-notebook-cell:/home/kali/dev/intel-collection/intel.ipynb#W3sZmlsZQ%3D%3D?line=30'>31</a>\u001b[0m textarea\u001b[39m.\u001b[39msend_keys(url)\n\u001b[1;32m     <a href='vscode-notebook-cell:/home/kali/dev/intel-collection/intel.ipynb#W3sZmlsZQ%3D%3D?line=32'>33</a>\u001b[0m \u001b[39m# click 'WHOIS LOOKUP' button\u001b[39;00m\n\u001b[0;32m---> <a href='vscode-notebook-cell:/home/kali/dev/intel-collection/intel.ipynb#W3sZmlsZQ%3D%3D?line=33'>34</a>\u001b[0m driver\u001b[39m.\u001b[39;49mfind_element(By\u001b[39m.\u001b[39;49mID, \u001b[39m\"\u001b[39;49m\u001b[39msubmitBasic\u001b[39;49m\u001b[39m\"\u001b[39;49m)\u001b[39m.\u001b[39;49mclick()\n\u001b[1;32m     <a href='vscode-notebook-cell:/home/kali/dev/intel-collection/intel.ipynb#W3sZmlsZQ%3D%3D?line=35'>36</a>\u001b[0m \u001b[39m# try to find error message (wait 3 sec)\u001b[39;00m\n\u001b[1;32m     <a href='vscode-notebook-cell:/home/kali/dev/intel-collection/intel.ipynb#W3sZmlsZQ%3D%3D?line=36'>37</a>\u001b[0m \u001b[39mtry\u001b[39;00m:\n",
      "File \u001b[0;32m~/.local/lib/python3.11/site-packages/selenium/webdriver/remote/webelement.py:94\u001b[0m, in \u001b[0;36mWebElement.click\u001b[0;34m(self)\u001b[0m\n\u001b[1;32m     92\u001b[0m \u001b[39mdef\u001b[39;00m \u001b[39mclick\u001b[39m(\u001b[39mself\u001b[39m) \u001b[39m-\u001b[39m\u001b[39m>\u001b[39m \u001b[39mNone\u001b[39;00m:\n\u001b[1;32m     93\u001b[0m \u001b[39m    \u001b[39m\u001b[39m\"\"\"Clicks the element.\"\"\"\u001b[39;00m\n\u001b[0;32m---> 94\u001b[0m     \u001b[39mself\u001b[39;49m\u001b[39m.\u001b[39;49m_execute(Command\u001b[39m.\u001b[39;49mCLICK_ELEMENT)\n",
      "File \u001b[0;32m~/.local/lib/python3.11/site-packages/selenium/webdriver/remote/webelement.py:403\u001b[0m, in \u001b[0;36mWebElement._execute\u001b[0;34m(self, command, params)\u001b[0m\n\u001b[1;32m    401\u001b[0m     params \u001b[39m=\u001b[39m {}\n\u001b[1;32m    402\u001b[0m params[\u001b[39m\"\u001b[39m\u001b[39mid\u001b[39m\u001b[39m\"\u001b[39m] \u001b[39m=\u001b[39m \u001b[39mself\u001b[39m\u001b[39m.\u001b[39m_id\n\u001b[0;32m--> 403\u001b[0m \u001b[39mreturn\u001b[39;00m \u001b[39mself\u001b[39;49m\u001b[39m.\u001b[39;49m_parent\u001b[39m.\u001b[39;49mexecute(command, params)\n",
      "File \u001b[0;32m~/.local/lib/python3.11/site-packages/selenium/webdriver/remote/webdriver.py:440\u001b[0m, in \u001b[0;36mWebDriver.execute\u001b[0;34m(self, driver_command, params)\u001b[0m\n\u001b[1;32m    438\u001b[0m response \u001b[39m=\u001b[39m \u001b[39mself\u001b[39m\u001b[39m.\u001b[39mcommand_executor\u001b[39m.\u001b[39mexecute(driver_command, params)\n\u001b[1;32m    439\u001b[0m \u001b[39mif\u001b[39;00m response:\n\u001b[0;32m--> 440\u001b[0m     \u001b[39mself\u001b[39;49m\u001b[39m.\u001b[39;49merror_handler\u001b[39m.\u001b[39;49mcheck_response(response)\n\u001b[1;32m    441\u001b[0m     response[\u001b[39m\"\u001b[39m\u001b[39mvalue\u001b[39m\u001b[39m\"\u001b[39m] \u001b[39m=\u001b[39m \u001b[39mself\u001b[39m\u001b[39m.\u001b[39m_unwrap_value(response\u001b[39m.\u001b[39mget(\u001b[39m\"\u001b[39m\u001b[39mvalue\u001b[39m\u001b[39m\"\u001b[39m, \u001b[39mNone\u001b[39;00m))\n\u001b[1;32m    442\u001b[0m     \u001b[39mreturn\u001b[39;00m response\n",
      "File \u001b[0;32m~/.local/lib/python3.11/site-packages/selenium/webdriver/remote/errorhandler.py:245\u001b[0m, in \u001b[0;36mErrorHandler.check_response\u001b[0;34m(self, response)\u001b[0m\n\u001b[1;32m    243\u001b[0m         alert_text \u001b[39m=\u001b[39m value[\u001b[39m\"\u001b[39m\u001b[39malert\u001b[39m\u001b[39m\"\u001b[39m]\u001b[39m.\u001b[39mget(\u001b[39m\"\u001b[39m\u001b[39mtext\u001b[39m\u001b[39m\"\u001b[39m)\n\u001b[1;32m    244\u001b[0m     \u001b[39mraise\u001b[39;00m exception_class(message, screen, stacktrace, alert_text)  \u001b[39m# type: ignore[call-arg]  # mypy is not smart enough here\u001b[39;00m\n\u001b[0;32m--> 245\u001b[0m \u001b[39mraise\u001b[39;00m exception_class(message, screen, stacktrace)\n",
      "\u001b[0;31mElementClickInterceptedException\u001b[0m: Message: element click intercepted: Element <button type=\"submit\" class=\"btn btn-default\" id=\"submitBasic\" aria-label=\"Search\">...</button> is not clickable at point (587, 383). Other element would receive the click: <iframe title=\"recaptcha challenge expires in two minutes\" src=\"https://www.google.com/recaptcha/api2/bframe?hl=en&amp;v=1h-hbVSJRMOQsmO_2qL9cO0z&amp;k=6Lfhg4cUAAAAAFjbHAGu06IUpdp-PLNHhAHYCoFZ\" name=\"c-m4p50zgm4hmi\" frameborder=\"0\" scrolling=\"no\" sandbox=\"allow-forms allow-popups allow-same-origin allow-scripts allow-top-navigation allow-modals allow-popups-to-escape-sandbox\" style=\"width: 400px; height: 580px;\"></iframe>\n  (Session info: headless chrome=113.0.5672.63)\nStacktrace:\n#0 0x55ecea247133 <unknown>\n#1 0x55ece9f7b966 <unknown>\n#2 0x55ece9fbe3f2 <unknown>\n#3 0x55ece9fbc5ac <unknown>\n#4 0x55ece9fba3be <unknown>\n#5 0x55ece9fb9696 <unknown>\n#6 0x55ece9fae3ea <unknown>\n#7 0x55ece9fd7bd2 <unknown>\n#8 0x55ece9fadd13 <unknown>\n#9 0x55ece9fd7d9e <unknown>\n#10 0x55ece9ff01c7 <unknown>\n#11 0x55ece9fd79a3 <unknown>\n#12 0x55ece9fac46a <unknown>\n#13 0x55ece9fad55e <unknown>\n#14 0x55ecea206cae <unknown>\n#15 0x55ecea20a8fe <unknown>\n#16 0x55ecea213f20 <unknown>\n#17 0x55ecea20b923 <unknown>\n#18 0x55ecea1dec0e <unknown>\n#19 0x55ecea22eb08 <unknown>\n#20 0x55ecea22ec97 <unknown>\n#21 0x55ecea23f113 <unknown>\n#22 0x7fb60fb77fd4 <unknown>\n"
     ]
    }
   ],
   "source": [
    "from selenium import webdriver\n",
    "from webdriver_manager.chrome import ChromeDriverManager\n",
    "from selenium.webdriver.chrome.service import Service\n",
    "from selenium.webdriver.chrome.options import Options\n",
    "from selenium.webdriver.common.by import By\n",
    "from selenium.webdriver.support.ui import WebDriverWait\n",
    "from selenium.webdriver.support import expected_conditions as EC\n",
    "from selenium.common.exceptions import TimeoutException\n",
    "import time\n",
    "\n",
    "opts = Options()\n",
    "\n",
    "# make web scraping 'invisible' if GUI is not required\n",
    "opts.add_argument(\"--headless\")\n",
    "opts.add_argument('--no-sandbox')\n",
    "\n",
    "user_agent = \"user-agent=[Mozilla/5.0 (Windows NT 10.0; Win64; x64) AppleWebKit/537.36 (KHTML, like Gecko) Chrome/102.0.5005.63 Safari/537.36]\"\n",
    "opts.add_argument(user_agent)\n",
    "driver = webdriver.Chrome(service=Service(ChromeDriverManager().install()), options=opts)\n",
    "\n",
    "urls = ['https://youtube.com', 'https://google.com', 'https://minecraft.net', 'https://something.odoo.com']\n",
    "exists = []\n",
    "\n",
    "driver.get(\"https://www.eurodns.com/whois-search/app-domain-name\")\n",
    "\n",
    "for url in urls:\n",
    "\n",
    "    # send url to textarea\n",
    "    textarea = driver.find_element(By.NAME, \"whoisDomainName\")\n",
    "    textarea.clear()  # make sure to clear textarea\n",
    "    textarea.send_keys(url)\n",
    "\n",
    "    # click 'WHOIS LOOKUP' button\n",
    "    driver.find_element(By.ID, \"submitBasic\").click()\n",
    "\n",
    "    # try to find error message (wait 3 sec)\n",
    "    try:\n",
    "        WebDriverWait(driver, 3).until(EC.presence_of_element_located((By.CLASS_NAME, 'whoisSearchError')))\n",
    "        print(f'URL {url} is not valid')\n",
    "    except TimeoutException:\n",
    "        print(f'URL {url} is valid')\n",
    "        exists.append(url)\n",
    "\n",
    "    time.sleep(30)  # wait 30 seconds to avoid '429 too many requests'\n",
    "\n",
    "\n",
    "print(f\"\\nURLs that exist:\\n\", exists)"
   ]
  }
 ],
 "metadata": {
  "kernelspec": {
   "display_name": "Python 3",
   "language": "python",
   "name": "python3"
  },
  "language_info": {
   "codemirror_mode": {
    "name": "ipython",
    "version": 3
   },
   "file_extension": ".py",
   "mimetype": "text/x-python",
   "name": "python",
   "nbconvert_exporter": "python",
   "pygments_lexer": "ipython3",
   "version": "3.11.2"
  },
  "orig_nbformat": 4
 },
 "nbformat": 4,
 "nbformat_minor": 2
}
