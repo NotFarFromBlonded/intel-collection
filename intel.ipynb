{
 "cells": [
  {
   "cell_type": "code",
   "execution_count": 1,
   "metadata": {},
   "outputs": [
    {
     "name": "stdout",
     "output_type": "stream",
     "text": [
      "Defaulting to user installation because normal site-packages is not writeable\n",
      "Requirement already satisfied: selenium in /home/kali/.local/lib/python3.11/site-packages (4.9.1)\n",
      "Requirement already satisfied: urllib3[socks]<3,>=1.26 in /usr/lib/python3/dist-packages (from selenium) (1.26.12)\n",
      "Requirement already satisfied: trio~=0.17 in /home/kali/.local/lib/python3.11/site-packages (from selenium) (0.22.0)\n",
      "Requirement already satisfied: trio-websocket~=0.9 in /home/kali/.local/lib/python3.11/site-packages (from selenium) (0.10.2)\n",
      "Requirement already satisfied: certifi>=2021.10.8 in /usr/lib/python3/dist-packages (from selenium) (2022.9.24)\n",
      "Requirement already satisfied: attrs>=19.2.0 in /usr/lib/python3/dist-packages (from trio~=0.17->selenium) (22.2.0)\n",
      "Requirement already satisfied: sortedcontainers in /usr/lib/python3/dist-packages (from trio~=0.17->selenium) (2.4.0)\n",
      "Requirement already satisfied: async-generator>=1.9 in /home/kali/.local/lib/python3.11/site-packages (from trio~=0.17->selenium) (1.10)\n",
      "Requirement already satisfied: idna in /usr/lib/python3/dist-packages (from trio~=0.17->selenium) (3.3)\n",
      "Requirement already satisfied: outcome in /home/kali/.local/lib/python3.11/site-packages (from trio~=0.17->selenium) (1.2.0)\n",
      "Requirement already satisfied: sniffio in /usr/lib/python3/dist-packages (from trio~=0.17->selenium) (1.2.0)\n",
      "Requirement already satisfied: exceptiongroup in /home/kali/.local/lib/python3.11/site-packages (from trio-websocket~=0.9->selenium) (1.1.1)\n",
      "Requirement already satisfied: wsproto>=0.14 in /usr/lib/python3/dist-packages (from trio-websocket~=0.9->selenium) (1.2.0)\n",
      "Requirement already satisfied: PySocks!=1.5.7,<2.0,>=1.5.6 in /usr/lib/python3/dist-packages (from urllib3[socks]<3,>=1.26->selenium) (1.7.1)\n",
      "Note: you may need to restart the kernel to use updated packages.\n",
      "Defaulting to user installation because normal site-packages is not writeable\n",
      "Collecting webdriver_manager\n",
      "  Downloading webdriver_manager-3.8.6-py2.py3-none-any.whl (27 kB)\n",
      "Requirement already satisfied: requests in /usr/lib/python3/dist-packages (from webdriver_manager) (2.28.1)\n",
      "Requirement already satisfied: python-dotenv in /usr/lib/python3/dist-packages (from webdriver_manager) (0.21.0)\n",
      "Requirement already satisfied: tqdm in /usr/lib/python3/dist-packages (from webdriver_manager) (4.64.1)\n",
      "Requirement already satisfied: packaging in /usr/lib/python3/dist-packages (from webdriver_manager) (23.0)\n",
      "Installing collected packages: webdriver_manager\n",
      "Successfully installed webdriver_manager-3.8.6\n",
      "Note: you may need to restart the kernel to use updated packages.\n"
     ]
    }
   ],
   "source": [
    "%pip install selenium\n",
    "%pip install webdriver_manager"
   ]
  },
  {
   "cell_type": "code",
   "execution_count": 19,
   "metadata": {},
   "outputs": [],
   "source": [
    "from selenium import webdriver\n",
    "from webdriver_manager.chrome import ChromeDriverManager\n",
    "from selenium.webdriver.common.by import By\n",
    "from selenium.webdriver.chrome.options import Options\n",
    "import time\n",
    "import os"
   ]
  },
  {
   "cell_type": "code",
   "execution_count": 28,
   "metadata": {},
   "outputs": [
    {
     "name": "stderr",
     "output_type": "stream",
     "text": [
      "/tmp/ipykernel_27584/3194533321.py:7: DeprecationWarning: executable_path has been deprecated, please pass in a Service object\n",
      "  driver = webdriver.Chrome(ChromeDriverManager().install())\n"
     ]
    },
    {
     "ename": "NoSuchElementException",
     "evalue": "Message: no such element: Unable to locate element: {\"method\":\"tag name\",\"selector\":\"pre\"}\n  (Session info: chrome=113.0.5672.63)\nStacktrace:\n#0 0x56106f10f133 <unknown>\n#1 0x56106ee43966 <unknown>\n#2 0x56106ee800dc <unknown>\n#3 0x56106ee80211 <unknown>\n#4 0x56106eeba6c4 <unknown>\n#5 0x56106ee9fbfd <unknown>\n#6 0x56106eeb81c7 <unknown>\n#7 0x56106ee9f9a3 <unknown>\n#8 0x56106ee7446a <unknown>\n#9 0x56106ee7555e <unknown>\n#10 0x56106f0cecae <unknown>\n#11 0x56106f0d28fe <unknown>\n#12 0x56106f0dbf20 <unknown>\n#13 0x56106f0d3923 <unknown>\n#14 0x56106f0a6c0e <unknown>\n#15 0x56106f0f6b08 <unknown>\n#16 0x56106f0f6c97 <unknown>\n#17 0x56106f107113 <unknown>\n#18 0x7f66bc49afd4 <unknown>\n",
     "output_type": "error",
     "traceback": [
      "\u001b[0;31m---------------------------------------------------------------------------\u001b[0m",
      "\u001b[0;31mNoSuchElementException\u001b[0m                    Traceback (most recent call last)",
      "\u001b[1;32m/home/kali/dev/intel-collection/intel.ipynb Cell 3\u001b[0m in \u001b[0;36m1\n\u001b[1;32m     <a href='vscode-notebook-cell:/home/kali/dev/intel-collection/intel.ipynb#W2sZmlsZQ%3D%3D?line=14'>15</a>\u001b[0m search_button\u001b[39m.\u001b[39mclick()\n\u001b[1;32m     <a href='vscode-notebook-cell:/home/kali/dev/intel-collection/intel.ipynb#W2sZmlsZQ%3D%3D?line=15'>16</a>\u001b[0m time\u001b[39m.\u001b[39msleep(\u001b[39m2\u001b[39m)\n\u001b[0;32m---> <a href='vscode-notebook-cell:/home/kali/dev/intel-collection/intel.ipynb#W2sZmlsZQ%3D%3D?line=16'>17</a>\u001b[0m raw_data \u001b[39m=\u001b[39m driver\u001b[39m.\u001b[39;49mfind_element(By\u001b[39m.\u001b[39;49mTAG_NAME, \u001b[39m'\u001b[39;49m\u001b[39mpre\u001b[39;49m\u001b[39m'\u001b[39;49m)\n\u001b[1;32m     <a href='vscode-notebook-cell:/home/kali/dev/intel-collection/intel.ipynb#W2sZmlsZQ%3D%3D?line=17'>18</a>\u001b[0m \u001b[39mprint\u001b[39m(raw_data)\n",
      "File \u001b[0;32m~/.local/lib/python3.11/site-packages/selenium/webdriver/remote/webdriver.py:831\u001b[0m, in \u001b[0;36mWebDriver.find_element\u001b[0;34m(self, by, value)\u001b[0m\n\u001b[1;32m    828\u001b[0m     by \u001b[39m=\u001b[39m By\u001b[39m.\u001b[39mCSS_SELECTOR\n\u001b[1;32m    829\u001b[0m     value \u001b[39m=\u001b[39m \u001b[39mf\u001b[39m\u001b[39m'\u001b[39m\u001b[39m[name=\u001b[39m\u001b[39m\"\u001b[39m\u001b[39m{\u001b[39;00mvalue\u001b[39m}\u001b[39;00m\u001b[39m\"\u001b[39m\u001b[39m]\u001b[39m\u001b[39m'\u001b[39m\n\u001b[0;32m--> 831\u001b[0m \u001b[39mreturn\u001b[39;00m \u001b[39mself\u001b[39;49m\u001b[39m.\u001b[39;49mexecute(Command\u001b[39m.\u001b[39;49mFIND_ELEMENT, {\u001b[39m\"\u001b[39;49m\u001b[39musing\u001b[39;49m\u001b[39m\"\u001b[39;49m: by, \u001b[39m\"\u001b[39;49m\u001b[39mvalue\u001b[39;49m\u001b[39m\"\u001b[39;49m: value})[\u001b[39m\"\u001b[39m\u001b[39mvalue\u001b[39m\u001b[39m\"\u001b[39m]\n",
      "File \u001b[0;32m~/.local/lib/python3.11/site-packages/selenium/webdriver/remote/webdriver.py:440\u001b[0m, in \u001b[0;36mWebDriver.execute\u001b[0;34m(self, driver_command, params)\u001b[0m\n\u001b[1;32m    438\u001b[0m response \u001b[39m=\u001b[39m \u001b[39mself\u001b[39m\u001b[39m.\u001b[39mcommand_executor\u001b[39m.\u001b[39mexecute(driver_command, params)\n\u001b[1;32m    439\u001b[0m \u001b[39mif\u001b[39;00m response:\n\u001b[0;32m--> 440\u001b[0m     \u001b[39mself\u001b[39;49m\u001b[39m.\u001b[39;49merror_handler\u001b[39m.\u001b[39;49mcheck_response(response)\n\u001b[1;32m    441\u001b[0m     response[\u001b[39m\"\u001b[39m\u001b[39mvalue\u001b[39m\u001b[39m\"\u001b[39m] \u001b[39m=\u001b[39m \u001b[39mself\u001b[39m\u001b[39m.\u001b[39m_unwrap_value(response\u001b[39m.\u001b[39mget(\u001b[39m\"\u001b[39m\u001b[39mvalue\u001b[39m\u001b[39m\"\u001b[39m, \u001b[39mNone\u001b[39;00m))\n\u001b[1;32m    442\u001b[0m     \u001b[39mreturn\u001b[39;00m response\n",
      "File \u001b[0;32m~/.local/lib/python3.11/site-packages/selenium/webdriver/remote/errorhandler.py:245\u001b[0m, in \u001b[0;36mErrorHandler.check_response\u001b[0;34m(self, response)\u001b[0m\n\u001b[1;32m    243\u001b[0m         alert_text \u001b[39m=\u001b[39m value[\u001b[39m\"\u001b[39m\u001b[39malert\u001b[39m\u001b[39m\"\u001b[39m]\u001b[39m.\u001b[39mget(\u001b[39m\"\u001b[39m\u001b[39mtext\u001b[39m\u001b[39m\"\u001b[39m)\n\u001b[1;32m    244\u001b[0m     \u001b[39mraise\u001b[39;00m exception_class(message, screen, stacktrace, alert_text)  \u001b[39m# type: ignore[call-arg]  # mypy is not smart enough here\u001b[39;00m\n\u001b[0;32m--> 245\u001b[0m \u001b[39mraise\u001b[39;00m exception_class(message, screen, stacktrace)\n",
      "\u001b[0;31mNoSuchElementException\u001b[0m: Message: no such element: Unable to locate element: {\"method\":\"tag name\",\"selector\":\"pre\"}\n  (Session info: chrome=113.0.5672.63)\nStacktrace:\n#0 0x56106f10f133 <unknown>\n#1 0x56106ee43966 <unknown>\n#2 0x56106ee800dc <unknown>\n#3 0x56106ee80211 <unknown>\n#4 0x56106eeba6c4 <unknown>\n#5 0x56106ee9fbfd <unknown>\n#6 0x56106eeb81c7 <unknown>\n#7 0x56106ee9f9a3 <unknown>\n#8 0x56106ee7446a <unknown>\n#9 0x56106ee7555e <unknown>\n#10 0x56106f0cecae <unknown>\n#11 0x56106f0d28fe <unknown>\n#12 0x56106f0dbf20 <unknown>\n#13 0x56106f0d3923 <unknown>\n#14 0x56106f0a6c0e <unknown>\n#15 0x56106f0f6b08 <unknown>\n#16 0x56106f0f6c97 <unknown>\n#17 0x56106f107113 <unknown>\n#18 0x7f66bc49afd4 <unknown>\n"
     ]
    }
   ],
   "source": [
    "opts = Options()\n",
    "\n",
    "# make web scraping 'invisible' if GUI is not required\n",
    "opts.add_argument(\"--headless\")\n",
    "opts.add_argument('--no-sandbox')\n",
    "url = \"https://centralops.net/co/DomainDossier.aspx\"\n",
    "driver = webdriver.Chrome(ChromeDriverManager().install(), options=opts)\n",
    "driver.get(url)\n",
    "time.sleep(2)\n",
    "search_box = driver.find_element(By.NAME, \"addr\")\n",
    "search_box.send_keys(\"fmovies.to\")\n",
    "network_check_button = driver.find_element(By.NAME, \"net_whois\")\n",
    "network_check_button.click()\n",
    "search_button = driver.find_element(By.ID, \"go\")\n",
    "search_button.click()\n",
    "time.sleep(2)\n",
    "raw_data = driver.find_element(By.TAG_NAME, 'pre')\n",
    "print(raw_data)"
   ]
  },
  {
   "cell_type": "code",
   "execution_count": 22,
   "metadata": {},
   "outputs": [
    {
     "name": "stderr",
     "output_type": "stream",
     "text": [
      "/tmp/ipykernel_6186/1818409473.py:5: DeprecationWarning: executable_path has been deprecated, please pass in a Service object\n",
      "  driver = webdriver.Chrome(ChromeDriverManager().install(), options=opts)\n"
     ]
    }
   ],
   "source": [
    "\n",
    "opts = Options()\n",
    "opts.add_argument(\"--headless\")\n",
    "opts.add_argument('--no-sandbox')\n",
    "url = \"https://fmoviefree.sc\"\n",
    "driver = webdriver.Chrome(ChromeDriverManager().install(), options=opts)\n",
    "driver.get(url)\n",
    "home = driver.find_element(By.CSS_SELECTOR, \"div.hm-button a\")\n",
    "home.click()\n",
    "movie = driver.find_element(By.XPATH, \"//div[@class='ml-item']/a[@title = 'Guardians of the Galaxy Vol. 3']\")\n",
    "movie_name = movie.get_attribute(\"title\")\n",
    "movie.click()\n",
    "linking_site_url = driver.find_element(By.CSS_SELECTOR, \"div#mv-info a\")\n",
    "linking_site_link = linking_site_url.get_attribute(\"href\")\n",
    "linking_site_url.click()\n",
    "time.sleep(10)\n",
    "directory = f\"outputs/{url[8:]}\"\n",
    "os.makedirs(directory, exist_ok=True)\n",
    "file_path = f\"{directory}/{movie_name}.txt\"\n",
    "file = open(file_path, \"a\")\n",
    "#print(\"linking site url: \", linking_site_link, file = file)\n",
    "file.write(f\"linking site url: {linking_site_link}\\n\")\n",
    "hosting_site_url = driver.find_element(By.CSS_SELECTOR, \"iframe#iframe-embed\").get_attribute(\"src\")\n",
    "#print(\"hosting site url: \", hosting_site_url, file = file)\n",
    "file.write(f\"hosting site url: {hosting_site_url}\\n\")\n",
    "script_tags = driver.find_element(By.TAG_NAME, \"body\").find_elements(By.CSS_SELECTOR, \"script[src]\")\n",
    "link_tags = driver.find_element(By.TAG_NAME, \"head\").find_elements(By.CSS_SELECTOR, \"link[href]\")\n",
    "script_head_tags = driver.find_element(By.TAG_NAME, \"head\").find_elements(By.CSS_SELECTOR, \"script[src]\")\n",
    "for script_tag in script_tags:\n",
    "    src = script_tag.get_attribute(\"src\")\n",
    "    file.write(f\"{src}\\n\")\n",
    "for link_tag in link_tags:\n",
    "    href = link_tag.get_attribute(\"href\")\n",
    "    file.write(f\"{href}\\n\")\n",
    "for script_head_tag in script_head_tags:\n",
    "    src = script_head_tag.get_attribute(\"src\")\n",
    "    file.write(f\"{src}\\n\")\n",
    "file.close()"
   ]
  }
 ],
 "metadata": {
  "kernelspec": {
   "display_name": "Python 3",
   "language": "python",
   "name": "python3"
  },
  "language_info": {
   "codemirror_mode": {
    "name": "ipython",
    "version": 3
   },
   "file_extension": ".py",
   "mimetype": "text/x-python",
   "name": "python",
   "nbconvert_exporter": "python",
   "pygments_lexer": "ipython3",
   "version": "3.11.2"
  },
  "orig_nbformat": 4
 },
 "nbformat": 4,
 "nbformat_minor": 2
}
