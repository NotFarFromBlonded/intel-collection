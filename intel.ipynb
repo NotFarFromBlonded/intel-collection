{
 "cells": [
  {
   "cell_type": "code",
   "execution_count": 1,
   "metadata": {},
   "outputs": [
    {
     "name": "stdout",
     "output_type": "stream",
     "text": [
      "Defaulting to user installation because normal site-packages is not writeable\n",
      "Requirement already satisfied: selenium in /home/kali/.local/lib/python3.11/site-packages (4.9.1)\n",
      "Requirement already satisfied: urllib3[socks]<3,>=1.26 in /usr/lib/python3/dist-packages (from selenium) (1.26.12)\n",
      "Requirement already satisfied: trio~=0.17 in /home/kali/.local/lib/python3.11/site-packages (from selenium) (0.22.0)\n",
      "Requirement already satisfied: trio-websocket~=0.9 in /home/kali/.local/lib/python3.11/site-packages (from selenium) (0.10.2)\n",
      "Requirement already satisfied: certifi>=2021.10.8 in /usr/lib/python3/dist-packages (from selenium) (2022.9.24)\n",
      "Requirement already satisfied: attrs>=19.2.0 in /usr/lib/python3/dist-packages (from trio~=0.17->selenium) (22.2.0)\n",
      "Requirement already satisfied: sortedcontainers in /usr/lib/python3/dist-packages (from trio~=0.17->selenium) (2.4.0)\n",
      "Requirement already satisfied: async-generator>=1.9 in /home/kali/.local/lib/python3.11/site-packages (from trio~=0.17->selenium) (1.10)\n",
      "Requirement already satisfied: idna in /usr/lib/python3/dist-packages (from trio~=0.17->selenium) (3.3)\n",
      "Requirement already satisfied: outcome in /home/kali/.local/lib/python3.11/site-packages (from trio~=0.17->selenium) (1.2.0)\n",
      "Requirement already satisfied: sniffio in /usr/lib/python3/dist-packages (from trio~=0.17->selenium) (1.2.0)\n",
      "Requirement already satisfied: exceptiongroup in /home/kali/.local/lib/python3.11/site-packages (from trio-websocket~=0.9->selenium) (1.1.1)\n",
      "Requirement already satisfied: wsproto>=0.14 in /usr/lib/python3/dist-packages (from trio-websocket~=0.9->selenium) (1.2.0)\n",
      "Requirement already satisfied: PySocks!=1.5.7,<2.0,>=1.5.6 in /usr/lib/python3/dist-packages (from urllib3[socks]<3,>=1.26->selenium) (1.7.1)\n",
      "Note: you may need to restart the kernel to use updated packages.\n",
      "Defaulting to user installation because normal site-packages is not writeable\n",
      "Collecting webdriver_manager\n",
      "  Downloading webdriver_manager-3.8.6-py2.py3-none-any.whl (27 kB)\n",
      "Requirement already satisfied: requests in /usr/lib/python3/dist-packages (from webdriver_manager) (2.28.1)\n",
      "Requirement already satisfied: python-dotenv in /usr/lib/python3/dist-packages (from webdriver_manager) (0.21.0)\n",
      "Requirement already satisfied: tqdm in /usr/lib/python3/dist-packages (from webdriver_manager) (4.64.1)\n",
      "Requirement already satisfied: packaging in /usr/lib/python3/dist-packages (from webdriver_manager) (23.0)\n",
      "Installing collected packages: webdriver_manager\n",
      "Successfully installed webdriver_manager-3.8.6\n",
      "Note: you may need to restart the kernel to use updated packages.\n"
     ]
    }
   ],
   "source": [
    "%pip install selenium\n",
    "%pip install webdriver_manager"
   ]
  },
  {
   "cell_type": "code",
   "execution_count": 3,
   "metadata": {},
   "outputs": [],
   "source": [
    "from selenium import webdriver\n",
    "from webdriver_manager.chrome import ChromeDriverManager\n",
    "from selenium.webdriver.common.by import By"
   ]
  },
  {
   "cell_type": "code",
   "execution_count": 13,
   "metadata": {},
   "outputs": [
    {
     "name": "stderr",
     "output_type": "stream",
     "text": [
      "/tmp/ipykernel_27584/3066010102.py:2: DeprecationWarning: executable_path has been deprecated, please pass in a Service object\n",
      "  driver = webdriver.Chrome(ChromeDriverManager().install())\n"
     ]
    },
    {
     "ename": "AttributeError",
     "evalue": "'WebDriver' object has no attribute 'find_element_by_name'",
     "output_type": "error",
     "traceback": [
      "\u001b[0;31m---------------------------------------------------------------------------\u001b[0m",
      "\u001b[0;31mAttributeError\u001b[0m                            Traceback (most recent call last)",
      "\u001b[1;32m/home/kali/dev/intel-collection/intel.ipynb Cell 3\u001b[0m in \u001b[0;36m4\n\u001b[1;32m      <a href='vscode-notebook-cell:/home/kali/dev/intel-collection/intel.ipynb#W2sZmlsZQ%3D%3D?line=1'>2</a>\u001b[0m driver \u001b[39m=\u001b[39m webdriver\u001b[39m.\u001b[39mChrome(ChromeDriverManager()\u001b[39m.\u001b[39minstall())\n\u001b[1;32m      <a href='vscode-notebook-cell:/home/kali/dev/intel-collection/intel.ipynb#W2sZmlsZQ%3D%3D?line=2'>3</a>\u001b[0m driver\u001b[39m.\u001b[39mget(url)\n\u001b[0;32m----> <a href='vscode-notebook-cell:/home/kali/dev/intel-collection/intel.ipynb#W2sZmlsZQ%3D%3D?line=3'>4</a>\u001b[0m search_box \u001b[39m=\u001b[39m driver\u001b[39m.\u001b[39;49mfind_element_by_name(\u001b[39m\"\u001b[39m\u001b[39maddr\u001b[39m\u001b[39m\"\u001b[39m)\n\u001b[1;32m      <a href='vscode-notebook-cell:/home/kali/dev/intel-collection/intel.ipynb#W2sZmlsZQ%3D%3D?line=4'>5</a>\u001b[0m search_box\u001b[39m.\u001b[39msend_keys(\u001b[39m\"\u001b[39m\u001b[39mfmovies.to\u001b[39m\u001b[39m\"\u001b[39m)\n\u001b[1;32m      <a href='vscode-notebook-cell:/home/kali/dev/intel-collection/intel.ipynb#W2sZmlsZQ%3D%3D?line=5'>6</a>\u001b[0m search_button \u001b[39m=\u001b[39m driver\u001b[39m.\u001b[39mfind_element_by_name(\u001b[39m\"\u001b[39m\u001b[39mgo\u001b[39m\u001b[39m\"\u001b[39m)\n",
      "\u001b[0;31mAttributeError\u001b[0m: 'WebDriver' object has no attribute 'find_element_by_name'"
     ]
    }
   ],
   "source": [
    "url = \"https://centralops.net/\"\n",
    "driver = webdriver.Chrome(ChromeDriverManager().install())\n",
    "driver.get(url)\n",
    "search_box = driver.find_element_by_name(\"addr\")\n",
    "search_box.send_keys(\"fmovies.to\")\n",
    "search_button = driver.find_element_by_name(\"go\")\n",
    "search_button.click()\n",
    "time.sleep(1)\n",
    "'''raw_data = driver.find_element(By.XPATH,\"//pre[@name=']\")\n",
    "print(raw_data)'''"
   ]
  },
  {
   "cell_type": "code",
   "execution_count": null,
   "metadata": {},
   "outputs": [],
   "source": []
  }
 ],
 "metadata": {
  "kernelspec": {
   "display_name": "Python 3",
   "language": "python",
   "name": "python3"
  },
  "language_info": {
   "codemirror_mode": {
    "name": "ipython",
    "version": 3
   },
   "file_extension": ".py",
   "mimetype": "text/x-python",
   "name": "python",
   "nbconvert_exporter": "python",
   "pygments_lexer": "ipython3",
   "version": "3.11.2"
  },
  "orig_nbformat": 4
 },
 "nbformat": 4,
 "nbformat_minor": 2
}
