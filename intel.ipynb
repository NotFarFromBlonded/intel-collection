{
 "cells": [
  {
   "cell_type": "code",
   "execution_count": 1,
   "metadata": {},
   "outputs": [
    {
     "name": "stdout",
     "output_type": "stream",
     "text": [
      "Defaulting to user installation because normal site-packages is not writeable\n",
      "Requirement already satisfied: selenium in /home/kali/.local/lib/python3.11/site-packages (4.9.1)\n",
      "Requirement already satisfied: urllib3[socks]<3,>=1.26 in /usr/lib/python3/dist-packages (from selenium) (1.26.12)\n",
      "Requirement already satisfied: trio~=0.17 in /home/kali/.local/lib/python3.11/site-packages (from selenium) (0.22.0)\n",
      "Requirement already satisfied: trio-websocket~=0.9 in /home/kali/.local/lib/python3.11/site-packages (from selenium) (0.10.2)\n",
      "Requirement already satisfied: certifi>=2021.10.8 in /usr/lib/python3/dist-packages (from selenium) (2022.9.24)\n",
      "Requirement already satisfied: attrs>=19.2.0 in /usr/lib/python3/dist-packages (from trio~=0.17->selenium) (22.2.0)\n",
      "Requirement already satisfied: sortedcontainers in /usr/lib/python3/dist-packages (from trio~=0.17->selenium) (2.4.0)\n",
      "Requirement already satisfied: async-generator>=1.9 in /home/kali/.local/lib/python3.11/site-packages (from trio~=0.17->selenium) (1.10)\n",
      "Requirement already satisfied: idna in /usr/lib/python3/dist-packages (from trio~=0.17->selenium) (3.3)\n",
      "Requirement already satisfied: outcome in /home/kali/.local/lib/python3.11/site-packages (from trio~=0.17->selenium) (1.2.0)\n",
      "Requirement already satisfied: sniffio in /usr/lib/python3/dist-packages (from trio~=0.17->selenium) (1.2.0)\n",
      "Requirement already satisfied: exceptiongroup in /home/kali/.local/lib/python3.11/site-packages (from trio-websocket~=0.9->selenium) (1.1.1)\n",
      "Requirement already satisfied: wsproto>=0.14 in /usr/lib/python3/dist-packages (from trio-websocket~=0.9->selenium) (1.2.0)\n",
      "Requirement already satisfied: PySocks!=1.5.7,<2.0,>=1.5.6 in /usr/lib/python3/dist-packages (from urllib3[socks]<3,>=1.26->selenium) (1.7.1)\n",
      "Note: you may need to restart the kernel to use updated packages.\n",
      "Defaulting to user installation because normal site-packages is not writeable\n",
      "Collecting webdriver_manager\n",
      "  Downloading webdriver_manager-3.8.6-py2.py3-none-any.whl (27 kB)\n",
      "Requirement already satisfied: requests in /usr/lib/python3/dist-packages (from webdriver_manager) (2.28.1)\n",
      "Requirement already satisfied: python-dotenv in /usr/lib/python3/dist-packages (from webdriver_manager) (0.21.0)\n",
      "Requirement already satisfied: tqdm in /usr/lib/python3/dist-packages (from webdriver_manager) (4.64.1)\n",
      "Requirement already satisfied: packaging in /usr/lib/python3/dist-packages (from webdriver_manager) (23.0)\n",
      "Installing collected packages: webdriver_manager\n",
      "Successfully installed webdriver_manager-3.8.6\n",
      "Note: you may need to restart the kernel to use updated packages.\n"
     ]
    }
   ],
   "source": [
    "%pip install selenium\n",
    "%pip install webdriver_manager"
   ]
  },
  {
   "cell_type": "code",
   "execution_count": 23,
   "metadata": {},
   "outputs": [
    {
     "name": "stdout",
     "output_type": "stream",
     "text": [
      "Defaulting to user installation because normal site-packages is not writeable\n",
      "Collecting selenium-wire\n",
      "  Downloading selenium_wire-5.1.0-py3-none-any.whl (239 kB)\n",
      "\u001b[2K     \u001b[38;2;114;156;31m━━━━━━━━━━━━━━━━━━━━━━━━━━━━━━━━━━━━━\u001b[0m \u001b[32m239.6/239.6 kB\u001b[0m \u001b[31m461.9 kB/s\u001b[0m eta \u001b[36m0:00:00\u001b[0m[36m0:00:01\u001b[0m[36m0:00:01\u001b[0m:01\u001b[0m\n",
      "\u001b[?25hRequirement already satisfied: blinker>=1.4 in /usr/lib/python3/dist-packages (from selenium-wire) (1.5)\n",
      "Requirement already satisfied: brotli>=1.0.9 in /usr/lib/python3/dist-packages (from selenium-wire) (1.0.9)\n",
      "Requirement already satisfied: certifi>=2019.9.11 in /usr/lib/python3/dist-packages (from selenium-wire) (2022.9.24)\n",
      "Requirement already satisfied: kaitaistruct>=0.7 in /usr/lib/python3/dist-packages (from selenium-wire) (0.10)\n",
      "Requirement already satisfied: pyasn1>=0.3.1 in /usr/lib/python3/dist-packages (from selenium-wire) (0.4.8)\n",
      "Requirement already satisfied: pyOpenSSL>=22.0.0 in /usr/lib/python3/dist-packages (from selenium-wire) (23.0.0)\n",
      "Requirement already satisfied: pyparsing>=2.4.2 in /usr/lib/python3/dist-packages (from selenium-wire) (3.0.9)\n",
      "Requirement already satisfied: pysocks>=1.7.1 in /usr/lib/python3/dist-packages (from selenium-wire) (1.7.1)\n",
      "Requirement already satisfied: selenium>=4.0.0 in /home/kali/.local/lib/python3.11/site-packages (from selenium-wire) (4.9.1)\n",
      "Requirement already satisfied: wsproto>=0.14 in /usr/lib/python3/dist-packages (from selenium-wire) (1.2.0)\n",
      "Collecting zstandard>=0.14.1\n",
      "  Downloading zstandard-0.21.0-cp311-cp311-manylinux_2_17_x86_64.manylinux2014_x86_64.whl (2.7 MB)\n",
      "\u001b[2K     \u001b[38;2;114;156;31m━━━━━━━━━━━━━━━━━━━━━━━━━━━━━━━━━━━━━━━━\u001b[0m \u001b[32m2.7/2.7 MB\u001b[0m \u001b[31m1.1 MB/s\u001b[0m eta \u001b[36m0:00:00\u001b[0mm eta \u001b[36m0:00:01\u001b[0m[36m0:00:01\u001b[0m\n",
      "\u001b[?25hRequirement already satisfied: h2>=4.0 in /usr/lib/python3/dist-packages (from selenium-wire) (4.1.0)\n",
      "Requirement already satisfied: hyperframe>=6.0 in /usr/lib/python3/dist-packages (from selenium-wire) (6.0.0)\n",
      "Requirement already satisfied: urllib3[socks]<3,>=1.26 in /usr/lib/python3/dist-packages (from selenium>=4.0.0->selenium-wire) (1.26.12)\n",
      "Requirement already satisfied: trio~=0.17 in /home/kali/.local/lib/python3.11/site-packages (from selenium>=4.0.0->selenium-wire) (0.22.0)\n",
      "Requirement already satisfied: trio-websocket~=0.9 in /home/kali/.local/lib/python3.11/site-packages (from selenium>=4.0.0->selenium-wire) (0.10.2)\n",
      "Requirement already satisfied: attrs>=19.2.0 in /usr/lib/python3/dist-packages (from trio~=0.17->selenium>=4.0.0->selenium-wire) (22.2.0)\n",
      "Requirement already satisfied: sortedcontainers in /usr/lib/python3/dist-packages (from trio~=0.17->selenium>=4.0.0->selenium-wire) (2.4.0)\n",
      "Requirement already satisfied: async-generator>=1.9 in /home/kali/.local/lib/python3.11/site-packages (from trio~=0.17->selenium>=4.0.0->selenium-wire) (1.10)\n",
      "Requirement already satisfied: idna in /usr/lib/python3/dist-packages (from trio~=0.17->selenium>=4.0.0->selenium-wire) (3.3)\n",
      "Requirement already satisfied: outcome in /home/kali/.local/lib/python3.11/site-packages (from trio~=0.17->selenium>=4.0.0->selenium-wire) (1.2.0)\n",
      "Requirement already satisfied: sniffio in /usr/lib/python3/dist-packages (from trio~=0.17->selenium>=4.0.0->selenium-wire) (1.2.0)\n",
      "Requirement already satisfied: exceptiongroup in /home/kali/.local/lib/python3.11/site-packages (from trio-websocket~=0.9->selenium>=4.0.0->selenium-wire) (1.1.1)\n",
      "Installing collected packages: zstandard, selenium-wire\n",
      "Successfully installed selenium-wire-5.1.0 zstandard-0.21.0\n",
      "Note: you may need to restart the kernel to use updated packages.\n"
     ]
    }
   ],
   "source": [
    "%pip install selenium-wire"
   ]
  },
  {
   "cell_type": "code",
   "execution_count": 24,
   "metadata": {},
   "outputs": [
    {
     "name": "stdout",
     "output_type": "stream",
     "text": [
      "Defaulting to user installation because normal site-packages is not writeable\n",
      "Collecting python-whois\n",
      "  Downloading python-whois-0.8.0.tar.gz (109 kB)\n",
      "\u001b[2K     \u001b[38;2;114;156;31m━━━━━━━━━━━━━━━━━━━━━━━━━━━━━━━━━━━━━\u001b[0m \u001b[32m109.6/109.6 kB\u001b[0m \u001b[31m325.8 kB/s\u001b[0m eta \u001b[36m0:00:00\u001b[0m kB/s\u001b[0m eta \u001b[36m0:00:01\u001b[0m\n",
      "\u001b[?25h  Preparing metadata (setup.py) ... \u001b[?25ldone\n",
      "\u001b[?25hRequirement already satisfied: future in /usr/lib/python3/dist-packages (from python-whois) (0.18.2)\n",
      "Building wheels for collected packages: python-whois\n",
      "  Building wheel for python-whois (setup.py) ... \u001b[?25ldone\n",
      "\u001b[?25h  Created wheel for python-whois: filename=python_whois-0.8.0-py3-none-any.whl size=103247 sha256=5fd184d026ba235f1119d1b4ea5e37566876049d112cb837f229e19f307ac3ff\n",
      "  Stored in directory: /home/kali/.cache/pip/wheels/8a/d4/1d/bab4b44ad52eadf1b10c5c1ec7cb18a936f24b58bfb95b427e\n",
      "Successfully built python-whois\n",
      "Installing collected packages: python-whois\n",
      "Successfully installed python-whois-0.8.0\n",
      "Note: you may need to restart the kernel to use updated packages.\n"
     ]
    }
   ],
   "source": [
    "%pip install python-whois"
   ]
  },
  {
   "cell_type": "code",
   "execution_count": 1,
   "metadata": {},
   "outputs": [],
   "source": [
    "from seleniumwire import webdriver\n",
    "from webdriver_manager.chrome import ChromeDriverManager\n",
    "from selenium.webdriver.common.by import By\n",
    "from selenium.webdriver.chrome.options import Options\n",
    "import time\n",
    "import whois\n",
    "import os"
   ]
  },
  {
   "cell_type": "code",
   "execution_count": 7,
   "metadata": {},
   "outputs": [],
   "source": [
    "opts = Options()\n",
    "opts.add_argument(\"--headless\")\n",
    "opts.add_argument('--no-sandbox')\n",
    "url = \"https://fmoviefree.sc\"\n",
    "directory = f\"outputs/{url[8:]}\"\n",
    "os.makedirs(directory, exist_ok=True)\n",
    "file_path = f\"{directory}/whois.txt\"\n",
    "with open(file_path, \"w\") as file:\n",
    "    w = whois.whois(url)\n",
    "    file.write(f\"{w.text}\")\n",
    "driver = webdriver.Chrome(options=opts)\n",
    "driver.get(url)\n",
    "home = driver.find_element(By.CSS_SELECTOR, \"div.hm-button a\")\n",
    "home.click()\n",
    "movie = driver.find_element(By.XPATH, \"//div[@class='ml-item']/a[@title = 'Guardians of the Galaxy Vol. 3']\")\n",
    "movie_name = movie.get_attribute(\"title\")\n",
    "movie.click()\n",
    "linking_site_url = driver.find_element(By.CSS_SELECTOR, \"div#mv-info a\")\n",
    "linking_site_link = linking_site_url.get_attribute(\"href\")\n",
    "linking_site_url.click()\n",
    "time.sleep(10)\n",
    "file_path = f\"{directory}/library_packages.txt\"\n",
    "with open(file_path, \"w\") as file:\n",
    "    #print(\"linking site url: \", linking_site_link, file = file)\n",
    "    file.write(f\"linking site url: {linking_site_link}\\n\")\n",
    "    hosting_site_url = driver.find_element(By.CSS_SELECTOR, \"iframe#iframe-embed\").get_attribute(\"src\")\n",
    "    #print(\"hosting site url: \", hosting_site_url, file = file)\n",
    "    file.write(f\"hosting site url: {hosting_site_url}\\n\")\n",
    "    script_tags = driver.find_element(By.TAG_NAME, \"body\").find_elements(By.CSS_SELECTOR, \"script[src]\")\n",
    "    link_tags = driver.find_element(By.TAG_NAME, \"head\").find_elements(By.CSS_SELECTOR, \"link[href]\")\n",
    "    script_head_tags = driver.find_element(By.TAG_NAME, \"head\").find_elements(By.CSS_SELECTOR, \"script[src]\")\n",
    "    for script_tag in script_tags:\n",
    "        src = script_tag.get_attribute(\"src\")\n",
    "        file.write(f\"{src}\\n\")\n",
    "    for link_tag in link_tags:\n",
    "        href = link_tag.get_attribute(\"href\")\n",
    "        file.write(f\"{href}\\n\")\n",
    "    for script_head_tag in script_head_tags:\n",
    "        src = script_head_tag.get_attribute(\"src\")\n",
    "        file.write(f\"{src}\\n\")\n",
    "        \n",
    "file_path = f\"{directory}/network_data.txt\"\n",
    "with open(file_path, \"w\") as file:\n",
    "    driver.find_element(By.XPATH,\"//html/body/div[1]/div[9]/div[1]/div/div/div[3]/div\").click()\n",
    "    duration = 600\n",
    "    start_time = time.time()\n",
    "    while time.time() - start_time<duration:\n",
    "        for request in driver.requests:\n",
    "            if request.response:\n",
    "                file.write(\n",
    "                    f\"{request.url} {request.response.status_code} {request.response.headers['Content-Type']}\\n\"\n",
    "                )\n",
    "    driver.quit()"
   ]
  },
  {
   "cell_type": "code",
   "execution_count": null,
   "metadata": {},
   "outputs": [],
   "source": []
  }
 ],
 "metadata": {
  "kernelspec": {
   "display_name": "Python 3",
   "language": "python",
   "name": "python3"
  },
  "language_info": {
   "codemirror_mode": {
    "name": "ipython",
    "version": 3
   },
   "file_extension": ".py",
   "mimetype": "text/x-python",
   "name": "python",
   "nbconvert_exporter": "python",
   "pygments_lexer": "ipython3",
   "version": "3.11.2"
  },
  "orig_nbformat": 4
 },
 "nbformat": 4,
 "nbformat_minor": 2
}
