{
 "cells": [
  {
   "cell_type": "code",
   "execution_count": 1,
   "metadata": {},
   "outputs": [
    {
     "name": "stdout",
     "output_type": "stream",
     "text": [
      "Defaulting to user installation because normal site-packages is not writeable\n",
      "Requirement already satisfied: selenium in /home/kali/.local/lib/python3.11/site-packages (4.9.1)\n",
      "Requirement already satisfied: urllib3[socks]<3,>=1.26 in /usr/lib/python3/dist-packages (from selenium) (1.26.12)\n",
      "Requirement already satisfied: trio~=0.17 in /home/kali/.local/lib/python3.11/site-packages (from selenium) (0.22.0)\n",
      "Requirement already satisfied: trio-websocket~=0.9 in /home/kali/.local/lib/python3.11/site-packages (from selenium) (0.10.2)\n",
      "Requirement already satisfied: certifi>=2021.10.8 in /usr/lib/python3/dist-packages (from selenium) (2022.9.24)\n",
      "Requirement already satisfied: attrs>=19.2.0 in /usr/lib/python3/dist-packages (from trio~=0.17->selenium) (22.2.0)\n",
      "Requirement already satisfied: sortedcontainers in /usr/lib/python3/dist-packages (from trio~=0.17->selenium) (2.4.0)\n",
      "Requirement already satisfied: async-generator>=1.9 in /home/kali/.local/lib/python3.11/site-packages (from trio~=0.17->selenium) (1.10)\n",
      "Requirement already satisfied: idna in /usr/lib/python3/dist-packages (from trio~=0.17->selenium) (3.3)\n",
      "Requirement already satisfied: outcome in /home/kali/.local/lib/python3.11/site-packages (from trio~=0.17->selenium) (1.2.0)\n",
      "Requirement already satisfied: sniffio in /usr/lib/python3/dist-packages (from trio~=0.17->selenium) (1.2.0)\n",
      "Requirement already satisfied: exceptiongroup in /home/kali/.local/lib/python3.11/site-packages (from trio-websocket~=0.9->selenium) (1.1.1)\n",
      "Requirement already satisfied: wsproto>=0.14 in /usr/lib/python3/dist-packages (from trio-websocket~=0.9->selenium) (1.2.0)\n",
      "Requirement already satisfied: PySocks!=1.5.7,<2.0,>=1.5.6 in /usr/lib/python3/dist-packages (from urllib3[socks]<3,>=1.26->selenium) (1.7.1)\n",
      "Note: you may need to restart the kernel to use updated packages.\n",
      "Defaulting to user installation because normal site-packages is not writeable\n",
      "Collecting webdriver_manager\n",
      "  Downloading webdriver_manager-3.8.6-py2.py3-none-any.whl (27 kB)\n",
      "Requirement already satisfied: requests in /usr/lib/python3/dist-packages (from webdriver_manager) (2.28.1)\n",
      "Requirement already satisfied: python-dotenv in /usr/lib/python3/dist-packages (from webdriver_manager) (0.21.0)\n",
      "Requirement already satisfied: tqdm in /usr/lib/python3/dist-packages (from webdriver_manager) (4.64.1)\n",
      "Requirement already satisfied: packaging in /usr/lib/python3/dist-packages (from webdriver_manager) (23.0)\n",
      "Installing collected packages: webdriver_manager\n",
      "Successfully installed webdriver_manager-3.8.6\n",
      "Note: you may need to restart the kernel to use updated packages.\n"
     ]
    }
   ],
   "source": [
    "%pip install selenium\n",
    "%pip install webdriver_manager"
   ]
  },
  {
   "cell_type": "code",
   "execution_count": 23,
   "metadata": {},
   "outputs": [
    {
     "name": "stdout",
     "output_type": "stream",
     "text": [
      "Defaulting to user installation because normal site-packages is not writeable\n",
      "Collecting selenium-wire\n",
      "  Downloading selenium_wire-5.1.0-py3-none-any.whl (239 kB)\n",
      "\u001b[2K     \u001b[38;2;114;156;31m━━━━━━━━━━━━━━━━━━━━━━━━━━━━━━━━━━━━━\u001b[0m \u001b[32m239.6/239.6 kB\u001b[0m \u001b[31m461.9 kB/s\u001b[0m eta \u001b[36m0:00:00\u001b[0m[36m0:00:01\u001b[0m[36m0:00:01\u001b[0m:01\u001b[0m\n",
      "\u001b[?25hRequirement already satisfied: blinker>=1.4 in /usr/lib/python3/dist-packages (from selenium-wire) (1.5)\n",
      "Requirement already satisfied: brotli>=1.0.9 in /usr/lib/python3/dist-packages (from selenium-wire) (1.0.9)\n",
      "Requirement already satisfied: certifi>=2019.9.11 in /usr/lib/python3/dist-packages (from selenium-wire) (2022.9.24)\n",
      "Requirement already satisfied: kaitaistruct>=0.7 in /usr/lib/python3/dist-packages (from selenium-wire) (0.10)\n",
      "Requirement already satisfied: pyasn1>=0.3.1 in /usr/lib/python3/dist-packages (from selenium-wire) (0.4.8)\n",
      "Requirement already satisfied: pyOpenSSL>=22.0.0 in /usr/lib/python3/dist-packages (from selenium-wire) (23.0.0)\n",
      "Requirement already satisfied: pyparsing>=2.4.2 in /usr/lib/python3/dist-packages (from selenium-wire) (3.0.9)\n",
      "Requirement already satisfied: pysocks>=1.7.1 in /usr/lib/python3/dist-packages (from selenium-wire) (1.7.1)\n",
      "Requirement already satisfied: selenium>=4.0.0 in /home/kali/.local/lib/python3.11/site-packages (from selenium-wire) (4.9.1)\n",
      "Requirement already satisfied: wsproto>=0.14 in /usr/lib/python3/dist-packages (from selenium-wire) (1.2.0)\n",
      "Collecting zstandard>=0.14.1\n",
      "  Downloading zstandard-0.21.0-cp311-cp311-manylinux_2_17_x86_64.manylinux2014_x86_64.whl (2.7 MB)\n",
      "\u001b[2K     \u001b[38;2;114;156;31m━━━━━━━━━━━━━━━━━━━━━━━━━━━━━━━━━━━━━━━━\u001b[0m \u001b[32m2.7/2.7 MB\u001b[0m \u001b[31m1.1 MB/s\u001b[0m eta \u001b[36m0:00:00\u001b[0mm eta \u001b[36m0:00:01\u001b[0m[36m0:00:01\u001b[0m\n",
      "\u001b[?25hRequirement already satisfied: h2>=4.0 in /usr/lib/python3/dist-packages (from selenium-wire) (4.1.0)\n",
      "Requirement already satisfied: hyperframe>=6.0 in /usr/lib/python3/dist-packages (from selenium-wire) (6.0.0)\n",
      "Requirement already satisfied: urllib3[socks]<3,>=1.26 in /usr/lib/python3/dist-packages (from selenium>=4.0.0->selenium-wire) (1.26.12)\n",
      "Requirement already satisfied: trio~=0.17 in /home/kali/.local/lib/python3.11/site-packages (from selenium>=4.0.0->selenium-wire) (0.22.0)\n",
      "Requirement already satisfied: trio-websocket~=0.9 in /home/kali/.local/lib/python3.11/site-packages (from selenium>=4.0.0->selenium-wire) (0.10.2)\n",
      "Requirement already satisfied: attrs>=19.2.0 in /usr/lib/python3/dist-packages (from trio~=0.17->selenium>=4.0.0->selenium-wire) (22.2.0)\n",
      "Requirement already satisfied: sortedcontainers in /usr/lib/python3/dist-packages (from trio~=0.17->selenium>=4.0.0->selenium-wire) (2.4.0)\n",
      "Requirement already satisfied: async-generator>=1.9 in /home/kali/.local/lib/python3.11/site-packages (from trio~=0.17->selenium>=4.0.0->selenium-wire) (1.10)\n",
      "Requirement already satisfied: idna in /usr/lib/python3/dist-packages (from trio~=0.17->selenium>=4.0.0->selenium-wire) (3.3)\n",
      "Requirement already satisfied: outcome in /home/kali/.local/lib/python3.11/site-packages (from trio~=0.17->selenium>=4.0.0->selenium-wire) (1.2.0)\n",
      "Requirement already satisfied: sniffio in /usr/lib/python3/dist-packages (from trio~=0.17->selenium>=4.0.0->selenium-wire) (1.2.0)\n",
      "Requirement already satisfied: exceptiongroup in /home/kali/.local/lib/python3.11/site-packages (from trio-websocket~=0.9->selenium>=4.0.0->selenium-wire) (1.1.1)\n",
      "Installing collected packages: zstandard, selenium-wire\n",
      "Successfully installed selenium-wire-5.1.0 zstandard-0.21.0\n",
      "Note: you may need to restart the kernel to use updated packages.\n"
     ]
    }
   ],
   "source": [
    "%pip install selenium-wire"
   ]
  },
  {
   "cell_type": "code",
   "execution_count": 24,
   "metadata": {},
   "outputs": [
    {
     "name": "stdout",
     "output_type": "stream",
     "text": [
      "Defaulting to user installation because normal site-packages is not writeable\n",
      "Collecting python-whois\n",
      "  Downloading python-whois-0.8.0.tar.gz (109 kB)\n",
      "\u001b[2K     \u001b[38;2;114;156;31m━━━━━━━━━━━━━━━━━━━━━━━━━━━━━━━━━━━━━\u001b[0m \u001b[32m109.6/109.6 kB\u001b[0m \u001b[31m325.8 kB/s\u001b[0m eta \u001b[36m0:00:00\u001b[0m kB/s\u001b[0m eta \u001b[36m0:00:01\u001b[0m\n",
      "\u001b[?25h  Preparing metadata (setup.py) ... \u001b[?25ldone\n",
      "\u001b[?25hRequirement already satisfied: future in /usr/lib/python3/dist-packages (from python-whois) (0.18.2)\n",
      "Building wheels for collected packages: python-whois\n",
      "  Building wheel for python-whois (setup.py) ... \u001b[?25ldone\n",
      "\u001b[?25h  Created wheel for python-whois: filename=python_whois-0.8.0-py3-none-any.whl size=103247 sha256=5fd184d026ba235f1119d1b4ea5e37566876049d112cb837f229e19f307ac3ff\n",
      "  Stored in directory: /home/kali/.cache/pip/wheels/8a/d4/1d/bab4b44ad52eadf1b10c5c1ec7cb18a936f24b58bfb95b427e\n",
      "Successfully built python-whois\n",
      "Installing collected packages: python-whois\n",
      "Successfully installed python-whois-0.8.0\n",
      "Note: you may need to restart the kernel to use updated packages.\n"
     ]
    }
   ],
   "source": [
    "%pip install python-whois"
   ]
  },
  {
   "cell_type": "code",
   "execution_count": 2,
   "metadata": {},
   "outputs": [],
   "source": [
    "from seleniumwire import webdriver\n",
    "from webdriver_manager.chrome import ChromeDriverManager\n",
    "from selenium.webdriver.common.by import By\n",
    "from selenium.webdriver.chrome.options import Options\n",
    "import time\n",
    "import whois\n",
    "import os"
   ]
  },
  {
   "cell_type": "code",
   "execution_count": 4,
   "metadata": {},
   "outputs": [
    {
     "ename": "KeyboardInterrupt",
     "evalue": "",
     "output_type": "error",
     "traceback": [
      "\u001b[0;31m---------------------------------------------------------------------------\u001b[0m",
      "\u001b[0;31mKeyboardInterrupt\u001b[0m                         Traceback (most recent call last)",
      "\u001b[1;32m/home/kali/dev/intel-collection/intel.ipynb Cell 5\u001b[0m in \u001b[0;36m5\n\u001b[1;32m     <a href='vscode-notebook-cell:/home/kali/dev/intel-collection/intel.ipynb#X10sZmlsZQ%3D%3D?line=55'>56</a>\u001b[0m start_time \u001b[39m=\u001b[39m time\u001b[39m.\u001b[39mtime()\n\u001b[1;32m     <a href='vscode-notebook-cell:/home/kali/dev/intel-collection/intel.ipynb#X10sZmlsZQ%3D%3D?line=56'>57</a>\u001b[0m \u001b[39mwhile\u001b[39;00m time\u001b[39m.\u001b[39mtime() \u001b[39m-\u001b[39m start_time \u001b[39m<\u001b[39m duration:\n\u001b[0;32m---> <a href='vscode-notebook-cell:/home/kali/dev/intel-collection/intel.ipynb#X10sZmlsZQ%3D%3D?line=57'>58</a>\u001b[0m     \u001b[39mfor\u001b[39;00m request \u001b[39min\u001b[39;00m driver\u001b[39m.\u001b[39;49mrequests:\n\u001b[1;32m     <a href='vscode-notebook-cell:/home/kali/dev/intel-collection/intel.ipynb#X10sZmlsZQ%3D%3D?line=58'>59</a>\u001b[0m         \u001b[39mif\u001b[39;00m request\u001b[39m.\u001b[39mresponse \u001b[39mand\u001b[39;00m request\u001b[39m.\u001b[39murl \u001b[39mnot\u001b[39;00m \u001b[39min\u001b[39;00m existing_urls:\n\u001b[1;32m     <a href='vscode-notebook-cell:/home/kali/dev/intel-collection/intel.ipynb#X10sZmlsZQ%3D%3D?line=59'>60</a>\u001b[0m             file\u001b[39m.\u001b[39mwrite(\n\u001b[1;32m     <a href='vscode-notebook-cell:/home/kali/dev/intel-collection/intel.ipynb#X10sZmlsZQ%3D%3D?line=60'>61</a>\u001b[0m                 \u001b[39mf\u001b[39m\u001b[39m\"\u001b[39m\u001b[39m{\u001b[39;00mrequest\u001b[39m.\u001b[39murl\u001b[39m}\u001b[39;00m\u001b[39m \u001b[39m\u001b[39m{\u001b[39;00mrequest\u001b[39m.\u001b[39mresponse\u001b[39m.\u001b[39mstatus_code\u001b[39m}\u001b[39;00m\u001b[39m \u001b[39m\u001b[39m{\u001b[39;00mrequest\u001b[39m.\u001b[39mresponse\u001b[39m.\u001b[39mheaders[\u001b[39m'\u001b[39m\u001b[39mContent-Type\u001b[39m\u001b[39m'\u001b[39m]\u001b[39m}\u001b[39;00m\u001b[39m\\n\u001b[39;00m\u001b[39m\"\u001b[39m\n\u001b[1;32m     <a href='vscode-notebook-cell:/home/kali/dev/intel-collection/intel.ipynb#X10sZmlsZQ%3D%3D?line=61'>62</a>\u001b[0m             )\n",
      "File \u001b[0;32m~/.local/lib/python3.11/site-packages/seleniumwire/inspect.py:26\u001b[0m, in \u001b[0;36mInspectRequestsMixin.requests\u001b[0;34m(self)\u001b[0m\n\u001b[1;32m     14\u001b[0m \u001b[39m@property\u001b[39m\n\u001b[1;32m     15\u001b[0m \u001b[39mdef\u001b[39;00m \u001b[39mrequests\u001b[39m(\u001b[39mself\u001b[39m) \u001b[39m-\u001b[39m\u001b[39m>\u001b[39m List[Request]:\n\u001b[1;32m     16\u001b[0m \u001b[39m    \u001b[39m\u001b[39m\"\"\"Retrieves the requests made between the browser and server.\u001b[39;00m\n\u001b[1;32m     17\u001b[0m \n\u001b[1;32m     18\u001b[0m \u001b[39m    Captured requests can be cleared with 'del', e.g:\u001b[39;00m\n\u001b[0;32m   (...)\u001b[0m\n\u001b[1;32m     24\u001b[0m \u001b[39m        between the browser and server.\u001b[39;00m\n\u001b[1;32m     25\u001b[0m \u001b[39m    \"\"\"\u001b[39;00m\n\u001b[0;32m---> 26\u001b[0m     \u001b[39mreturn\u001b[39;00m \u001b[39mself\u001b[39;49m\u001b[39m.\u001b[39;49mbackend\u001b[39m.\u001b[39;49mstorage\u001b[39m.\u001b[39;49mload_requests()\n",
      "File \u001b[0;32m~/.local/lib/python3.11/site-packages/seleniumwire/storage.py:173\u001b[0m, in \u001b[0;36mRequestStorage.load_requests\u001b[0;34m(self)\u001b[0m\n\u001b[1;32m    170\u001b[0m loaded \u001b[39m=\u001b[39m []\n\u001b[1;32m    172\u001b[0m \u001b[39mfor\u001b[39;00m indexed_request \u001b[39min\u001b[39;00m index:\n\u001b[0;32m--> 173\u001b[0m     request \u001b[39m=\u001b[39m \u001b[39mself\u001b[39;49m\u001b[39m.\u001b[39;49m_load_request(indexed_request\u001b[39m.\u001b[39;49mid)\n\u001b[1;32m    175\u001b[0m     \u001b[39mif\u001b[39;00m request \u001b[39mis\u001b[39;00m \u001b[39mnot\u001b[39;00m \u001b[39mNone\u001b[39;00m:\n\u001b[1;32m    176\u001b[0m         loaded\u001b[39m.\u001b[39mappend(request)\n",
      "File \u001b[0;32m~/.local/lib/python3.11/site-packages/seleniumwire/storage.py:198\u001b[0m, in \u001b[0;36mRequestStorage._load_request\u001b[0;34m(self, request_id)\u001b[0m\n\u001b[1;32m    195\u001b[0m \u001b[39mtry\u001b[39;00m:\n\u001b[1;32m    196\u001b[0m     \u001b[39m# Attach the response if there is one.\u001b[39;00m\n\u001b[1;32m    197\u001b[0m     \u001b[39mwith\u001b[39;00m \u001b[39mopen\u001b[39m(os\u001b[39m.\u001b[39mpath\u001b[39m.\u001b[39mjoin(request_dir, \u001b[39m'\u001b[39m\u001b[39mresponse\u001b[39m\u001b[39m'\u001b[39m), \u001b[39m'\u001b[39m\u001b[39mrb\u001b[39m\u001b[39m'\u001b[39m) \u001b[39mas\u001b[39;00m res:\n\u001b[0;32m--> 198\u001b[0m         response \u001b[39m=\u001b[39m \u001b[39mself\u001b[39;49m\u001b[39m.\u001b[39;49m_unpickle(res)\n\u001b[1;32m    200\u001b[0m         \u001b[39mif\u001b[39;00m response \u001b[39mis\u001b[39;00m \u001b[39mnot\u001b[39;00m \u001b[39mNone\u001b[39;00m:\n\u001b[1;32m    201\u001b[0m             request\u001b[39m.\u001b[39mresponse \u001b[39m=\u001b[39m response\n",
      "File \u001b[0;32m~/.local/lib/python3.11/site-packages/seleniumwire/storage.py:219\u001b[0m, in \u001b[0;36mRequestStorage._unpickle\u001b[0;34m(self, f)\u001b[0m\n\u001b[1;32m    214\u001b[0m \u001b[39m\u001b[39m\u001b[39m\"\"\"Unpickle the object specified by the file f.\u001b[39;00m\n\u001b[1;32m    215\u001b[0m \n\u001b[1;32m    216\u001b[0m \u001b[39mIf unpickling fails return None.\u001b[39;00m\n\u001b[1;32m    217\u001b[0m \u001b[39m\"\"\"\u001b[39;00m\n\u001b[1;32m    218\u001b[0m \u001b[39mtry\u001b[39;00m:\n\u001b[0;32m--> 219\u001b[0m     \u001b[39mreturn\u001b[39;00m pickle\u001b[39m.\u001b[39mload(f)\n\u001b[1;32m    220\u001b[0m \u001b[39mexcept\u001b[39;00m \u001b[39mException\u001b[39;00m:\n\u001b[1;32m    221\u001b[0m     \u001b[39m# Errors may sometimes occur with unpickling - e.g.\u001b[39;00m\n\u001b[1;32m    222\u001b[0m     \u001b[39m# sometimes data hasn't been fully flushed to disk\u001b[39;00m\n\u001b[1;32m    223\u001b[0m     \u001b[39m# by the OS by the time we come to unpickle it.\u001b[39;00m\n\u001b[1;32m    224\u001b[0m     \u001b[39mif\u001b[39;00m log\u001b[39m.\u001b[39misEnabledFor(logging\u001b[39m.\u001b[39mDEBUG):\n",
      "\u001b[0;31mKeyboardInterrupt\u001b[0m: "
     ]
    }
   ],
   "source": [
    "opts = Options()\n",
    "opts.add_argument(\"--headless\")\n",
    "opts.add_argument('--no-sandbox')\n",
    "url = \"https://fmoviefree.sc\"\n",
    "directory = f\"outputs/{url[8:]}\"\n",
    "os.makedirs(directory, exist_ok=True)\n",
    "file_path = f\"{directory}/whois.txt\"\n",
    "with open(file_path, \"w\") as file:\n",
    "    w = whois.whois(url)\n",
    "    file.write(f\"{w.text}\")\n",
    "driver = webdriver.Chrome(options=opts)\n",
    "driver.get(url)\n",
    "home = driver.find_element(By.CSS_SELECTOR, \"div.hm-button a\")\n",
    "home.click()\n",
    "movie = driver.find_element(By.XPATH, \"//div[@class='ml-item']/a[@title = 'Guardians of the Galaxy Vol. 3']\")\n",
    "movie_name = movie.get_attribute(\"title\")\n",
    "movie.click()\n",
    "linking_site_url = driver.find_element(By.CSS_SELECTOR, \"div#mv-info a\")\n",
    "linking_site_link = linking_site_url.get_attribute(\"href\")\n",
    "linking_site_url.click()\n",
    "time.sleep(10)\n",
    "file_path = f\"{directory}/library_packages.txt\"\n",
    "with open(file_path, \"w\") as file:\n",
    "    #print(\"linking site url: \", linking_site_link, file = file)\n",
    "    file.write(f\"linking site url: {linking_site_link}\\n\")\n",
    "    hosting_site_url = driver.find_element(By.CSS_SELECTOR, \"iframe#iframe-embed\").get_attribute(\"src\")\n",
    "    #print(\"hosting site url: \", hosting_site_url, file = file)\n",
    "    file.write(f\"hosting site url: {hosting_site_url}\\n\")\n",
    "    script_tags = driver.find_element(By.TAG_NAME, \"body\").find_elements(By.CSS_SELECTOR, \"script[src]\")\n",
    "    link_tags = driver.find_element(By.TAG_NAME, \"head\").find_elements(By.CSS_SELECTOR, \"link[href]\")\n",
    "    script_head_tags = driver.find_element(By.TAG_NAME, \"head\").find_elements(By.CSS_SELECTOR, \"script[src]\")\n",
    "    for script_tag in script_tags:\n",
    "        src = script_tag.get_attribute(\"src\")\n",
    "        file.write(f\"{src}\\n\")\n",
    "    for link_tag in link_tags:\n",
    "        href = link_tag.get_attribute(\"href\")\n",
    "        file.write(f\"{href}\\n\")\n",
    "    for script_head_tag in script_head_tags:\n",
    "        src = script_head_tag.get_attribute(\"src\")\n",
    "        file.write(f\"{src}\\n\")\n",
    "        \n",
    "file_path = f\"{directory}/network_data.txt\"\n",
    "existing_urls = set()\n",
    "if os.path.isfile(file_path):\n",
    "    with open(file_path, \"r\") as file:\n",
    "        for line in file:\n",
    "            url = line.split()[0]\n",
    "            existing_urls.add(url)\n",
    "else:\n",
    "    with open(file_path, \"w\") as file:\n",
    "        time.sleep(3)\n",
    "        iframe = driver.find_element(By.XPATH, \"//iframe[@id='iframe-embed']\")\n",
    "        driver.switch_to.frame(iframe)\n",
    "        driver.find_element(By.XPATH,\"//div[@aria-label='Start Playback']\").click()\n",
    "        duration = 600\n",
    "        start_time = time.time()\n",
    "        while time.time() - start_time < duration:\n",
    "            for request in driver.requests:\n",
    "                if request.response and request.url not in existing_urls:\n",
    "                    file.write(\n",
    "                        f\"{request.url} {request.response.status_code} {request.response.headers['Content-Type']}\\n\"\n",
    "                    )\n",
    "                    existing_urls.add(request.url)\n",
    "        driver.quit()"
   ]
  },
  {
   "cell_type": "code",
   "execution_count": null,
   "metadata": {},
   "outputs": [],
   "source": []
  }
 ],
 "metadata": {
  "kernelspec": {
   "display_name": "Python 3",
   "language": "python",
   "name": "python3"
  },
  "language_info": {
   "codemirror_mode": {
    "name": "ipython",
    "version": 3
   },
   "file_extension": ".py",
   "mimetype": "text/x-python",
   "name": "python",
   "nbconvert_exporter": "python",
   "pygments_lexer": "ipython3",
   "version": "3.11.2"
  },
  "orig_nbformat": 4
 },
 "nbformat": 4,
 "nbformat_minor": 2
}
