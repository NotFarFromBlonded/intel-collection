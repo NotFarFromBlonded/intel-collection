{
 "cells": [
  {
   "cell_type": "code",
   "execution_count": null,
   "metadata": {},
   "outputs": [],
   "source": [
    "%pip install selenium"
   ]
  },
  {
   "cell_type": "code",
   "execution_count": null,
   "metadata": {},
   "outputs": [],
   "source": [
    "%pip install webdriver_manager"
   ]
  },
  {
   "cell_type": "code",
   "execution_count": 10,
   "metadata": {},
   "outputs": [
    {
     "ename": "AttributeError",
     "evalue": "'WebDriver' object has no attribute 'find_elementh'",
     "output_type": "error",
     "traceback": [
      "\u001b[1;31m---------------------------------------------------------------------------\u001b[0m",
      "\u001b[1;31mAttributeError\u001b[0m                            Traceback (most recent call last)",
      "Cell \u001b[1;32mIn[10], line 24\u001b[0m\n\u001b[0;32m     21\u001b[0m driver\u001b[39m.\u001b[39mimplicitly_wait(\u001b[39m10\u001b[39m)            \n\u001b[0;32m     23\u001b[0m \u001b[39m# Find the element containing the WHOIS information\u001b[39;00m\n\u001b[1;32m---> 24\u001b[0m result_element \u001b[39m=\u001b[39m driver\u001b[39m.\u001b[39;49mfind_elementh(By\u001b[39m.\u001b[39mID,\u001b[39m\"\u001b[39m\u001b[39mregistrarData\u001b[39m\u001b[39m\"\u001b[39m)\n\u001b[0;32m     25\u001b[0m result_text \u001b[39m=\u001b[39m result_element\u001b[39m.\u001b[39mtext\n\u001b[0;32m     27\u001b[0m \u001b[39m# Print the WHOIS information\u001b[39;00m\n",
      "\u001b[1;31mAttributeError\u001b[0m: 'WebDriver' object has no attribute 'find_elementh'"
     ]
    }
   ],
   "source": [
    "from selenium import webdriver\n",
    "from webdriver_manager.chrome import ChromeDriverManager\n",
    "from selenium.webdriver.common.by import By\n",
    "from selenium.webdriver.chrome.options import Options\n",
    "\n",
    "# Launch Chrome browser\n",
    "driver = webdriver.Chrome()\n",
    "\n",
    "# Navigate to the WHOIS lookup page\n",
    "driver.get(\"https://whois.com/whois/\")\n",
    "\n",
    "# Find and fill the search box with the domain you want to look up\n",
    "search_box = driver.find_element(By.ID,\"query\")\n",
    "search_box.send_keys(\"youtube.com\")\n",
    "\n",
    "# Click the search button\n",
    "search_button = driver.find_element(By.XPATH,\"//html/body/div[2]/div/div[1]/form/button\")\n",
    "search_button.click()\n",
    "\n",
    "# Wait for the results page to load\n",
    "driver.implicitly_wait(10)            \n",
    "\n",
    "# Find the element containing the WHOIS information\n",
    "result_element = driver.find_element(By.ID,\"registrarData\")\n",
    "result_text = result_element.text\n",
    "\n",
    "# Print the WHOIS information\n",
    "print(result_text)\n",
    "\n",
    "# Close the browser\n",
    "driver.quit()\n"
   ]
  }
 ],
 "metadata": {
  "kernelspec": {
   "display_name": "Python 3",
   "language": "python",
   "name": "python3"
  },
  "language_info": {
   "codemirror_mode": {
    "name": "ipython",
    "version": 3
   },
   "file_extension": ".py",
   "mimetype": "text/x-python",
   "name": "python",
   "nbconvert_exporter": "python",
   "pygments_lexer": "ipython3",
   "version": "3.11.3"
  },
  "orig_nbformat": 4
 },
 "nbformat": 4,
 "nbformat_minor": 2
}
