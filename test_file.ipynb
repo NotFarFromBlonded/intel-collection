{
 "cells": [
  {
   "cell_type": "code",
   "execution_count": null,
   "metadata": {},
   "outputs": [],
   "source": [
    "%pip install selenium"
   ]
  },
  {
   "cell_type": "code",
   "execution_count": null,
   "metadata": {},
   "outputs": [],
   "source": [
    "%pip install webdriver_manager"
   ]
  },
  {
   "cell_type": "code",
   "execution_count": 1,
   "metadata": {},
   "outputs": [
    {
     "ename": "NoSuchElementException",
     "evalue": "Message: no such element: Unable to locate element: {\"method\":\"css selector\",\"selector\":\"[id=\"registrarData\"]\"}\n  (Session info: headless chrome=113.0.5672.63)\nStacktrace:\n#0 0x55bf8a35e133 <unknown>\n#1 0x55bf8a092966 <unknown>\n#2 0x55bf8a0cf0dc <unknown>\n#3 0x55bf8a0cf211 <unknown>\n#4 0x55bf8a1096c4 <unknown>\n#5 0x55bf8a0eebfd <unknown>\n#6 0x55bf8a1071c7 <unknown>\n#7 0x55bf8a0ee9a3 <unknown>\n#8 0x55bf8a0c346a <unknown>\n#9 0x55bf8a0c455e <unknown>\n#10 0x55bf8a31dcae <unknown>\n#11 0x55bf8a3218fe <unknown>\n#12 0x55bf8a32af20 <unknown>\n#13 0x55bf8a322923 <unknown>\n#14 0x55bf8a2f5c0e <unknown>\n#15 0x55bf8a345b08 <unknown>\n#16 0x55bf8a345c97 <unknown>\n#17 0x55bf8a356113 <unknown>\n#18 0x7f5c70897fd4 <unknown>\n",
     "output_type": "error",
     "traceback": [
      "\u001b[0;31m---------------------------------------------------------------------------\u001b[0m",
      "\u001b[0;31mNoSuchElementException\u001b[0m                    Traceback (most recent call last)",
      "\u001b[1;32m/home/kali/dev/intel-collection/test_file.ipynb Cell 3\u001b[0m in \u001b[0;36m2\n\u001b[1;32m     <a href='vscode-notebook-cell:/home/kali/dev/intel-collection/test_file.ipynb#W2sZmlsZQ%3D%3D?line=24'>25</a>\u001b[0m driver\u001b[39m.\u001b[39mimplicitly_wait(\u001b[39m10\u001b[39m)            \n\u001b[1;32m     <a href='vscode-notebook-cell:/home/kali/dev/intel-collection/test_file.ipynb#W2sZmlsZQ%3D%3D?line=26'>27</a>\u001b[0m \u001b[39m# Find the element containing the WHOIS information\u001b[39;00m\n\u001b[0;32m---> <a href='vscode-notebook-cell:/home/kali/dev/intel-collection/test_file.ipynb#W2sZmlsZQ%3D%3D?line=27'>28</a>\u001b[0m result_element \u001b[39m=\u001b[39m driver\u001b[39m.\u001b[39;49mfind_element(By\u001b[39m.\u001b[39;49mID,\u001b[39m\"\u001b[39;49m\u001b[39mregistrarData\u001b[39;49m\u001b[39m\"\u001b[39;49m)\n\u001b[1;32m     <a href='vscode-notebook-cell:/home/kali/dev/intel-collection/test_file.ipynb#W2sZmlsZQ%3D%3D?line=28'>29</a>\u001b[0m result_text \u001b[39m=\u001b[39m result_element\u001b[39m.\u001b[39mtext\n\u001b[1;32m     <a href='vscode-notebook-cell:/home/kali/dev/intel-collection/test_file.ipynb#W2sZmlsZQ%3D%3D?line=30'>31</a>\u001b[0m \u001b[39m# Print the WHOIS information\u001b[39;00m\n",
      "File \u001b[0;32m~/.local/lib/python3.11/site-packages/selenium/webdriver/remote/webdriver.py:831\u001b[0m, in \u001b[0;36mWebDriver.find_element\u001b[0;34m(self, by, value)\u001b[0m\n\u001b[1;32m    828\u001b[0m     by \u001b[39m=\u001b[39m By\u001b[39m.\u001b[39mCSS_SELECTOR\n\u001b[1;32m    829\u001b[0m     value \u001b[39m=\u001b[39m \u001b[39mf\u001b[39m\u001b[39m'\u001b[39m\u001b[39m[name=\u001b[39m\u001b[39m\"\u001b[39m\u001b[39m{\u001b[39;00mvalue\u001b[39m}\u001b[39;00m\u001b[39m\"\u001b[39m\u001b[39m]\u001b[39m\u001b[39m'\u001b[39m\n\u001b[0;32m--> 831\u001b[0m \u001b[39mreturn\u001b[39;00m \u001b[39mself\u001b[39;49m\u001b[39m.\u001b[39;49mexecute(Command\u001b[39m.\u001b[39;49mFIND_ELEMENT, {\u001b[39m\"\u001b[39;49m\u001b[39musing\u001b[39;49m\u001b[39m\"\u001b[39;49m: by, \u001b[39m\"\u001b[39;49m\u001b[39mvalue\u001b[39;49m\u001b[39m\"\u001b[39;49m: value})[\u001b[39m\"\u001b[39m\u001b[39mvalue\u001b[39m\u001b[39m\"\u001b[39m]\n",
      "File \u001b[0;32m~/.local/lib/python3.11/site-packages/selenium/webdriver/remote/webdriver.py:440\u001b[0m, in \u001b[0;36mWebDriver.execute\u001b[0;34m(self, driver_command, params)\u001b[0m\n\u001b[1;32m    438\u001b[0m response \u001b[39m=\u001b[39m \u001b[39mself\u001b[39m\u001b[39m.\u001b[39mcommand_executor\u001b[39m.\u001b[39mexecute(driver_command, params)\n\u001b[1;32m    439\u001b[0m \u001b[39mif\u001b[39;00m response:\n\u001b[0;32m--> 440\u001b[0m     \u001b[39mself\u001b[39;49m\u001b[39m.\u001b[39;49merror_handler\u001b[39m.\u001b[39;49mcheck_response(response)\n\u001b[1;32m    441\u001b[0m     response[\u001b[39m\"\u001b[39m\u001b[39mvalue\u001b[39m\u001b[39m\"\u001b[39m] \u001b[39m=\u001b[39m \u001b[39mself\u001b[39m\u001b[39m.\u001b[39m_unwrap_value(response\u001b[39m.\u001b[39mget(\u001b[39m\"\u001b[39m\u001b[39mvalue\u001b[39m\u001b[39m\"\u001b[39m, \u001b[39mNone\u001b[39;00m))\n\u001b[1;32m    442\u001b[0m     \u001b[39mreturn\u001b[39;00m response\n",
      "File \u001b[0;32m~/.local/lib/python3.11/site-packages/selenium/webdriver/remote/errorhandler.py:245\u001b[0m, in \u001b[0;36mErrorHandler.check_response\u001b[0;34m(self, response)\u001b[0m\n\u001b[1;32m    243\u001b[0m         alert_text \u001b[39m=\u001b[39m value[\u001b[39m\"\u001b[39m\u001b[39malert\u001b[39m\u001b[39m\"\u001b[39m]\u001b[39m.\u001b[39mget(\u001b[39m\"\u001b[39m\u001b[39mtext\u001b[39m\u001b[39m\"\u001b[39m)\n\u001b[1;32m    244\u001b[0m     \u001b[39mraise\u001b[39;00m exception_class(message, screen, stacktrace, alert_text)  \u001b[39m# type: ignore[call-arg]  # mypy is not smart enough here\u001b[39;00m\n\u001b[0;32m--> 245\u001b[0m \u001b[39mraise\u001b[39;00m exception_class(message, screen, stacktrace)\n",
      "\u001b[0;31mNoSuchElementException\u001b[0m: Message: no such element: Unable to locate element: {\"method\":\"css selector\",\"selector\":\"[id=\"registrarData\"]\"}\n  (Session info: headless chrome=113.0.5672.63)\nStacktrace:\n#0 0x55bf8a35e133 <unknown>\n#1 0x55bf8a092966 <unknown>\n#2 0x55bf8a0cf0dc <unknown>\n#3 0x55bf8a0cf211 <unknown>\n#4 0x55bf8a1096c4 <unknown>\n#5 0x55bf8a0eebfd <unknown>\n#6 0x55bf8a1071c7 <unknown>\n#7 0x55bf8a0ee9a3 <unknown>\n#8 0x55bf8a0c346a <unknown>\n#9 0x55bf8a0c455e <unknown>\n#10 0x55bf8a31dcae <unknown>\n#11 0x55bf8a3218fe <unknown>\n#12 0x55bf8a32af20 <unknown>\n#13 0x55bf8a322923 <unknown>\n#14 0x55bf8a2f5c0e <unknown>\n#15 0x55bf8a345b08 <unknown>\n#16 0x55bf8a345c97 <unknown>\n#17 0x55bf8a356113 <unknown>\n#18 0x7f5c70897fd4 <unknown>\n"
     ]
    }
   ],
   "source": [
    "from selenium import webdriver\n",
    "from webdriver_manager.chrome import ChromeDriverManager\n",
    "from selenium.webdriver.common.by import By\n",
    "from selenium.webdriver.chrome.options import Options\n",
    "\n",
    "# Launch Chrome browser\n",
    "driver = webdriver.Chrome()\n",
    "\n",
    "# Navigate to the WHOIS lookup page\n",
    "driver.get(\"https://whois.com/whois/\")\n",
    "\n",
    "# Find and fill the search box with the domain you want to look up\n",
    "search_box = driver.find_element(By.ID,\"query\")\n",
    "search_box.send_keys(\"youtube.com\")\n",
    "\n",
    "# Click the search button\n",
    "search_button = driver.find_element(By.XPATH,\"//html/body/div[2]/div/div[1]/form/button\")\n",
    "search_button.click()\n",
    "\n",
    "# Wait for the results page to load\n",
    "driver.implicitly_wait(10)            \n",
    "\n",
    "# Find the element containing the WHOIS information\n",
    "result_element = driver.find_element(By.ID,\"registrarData\")\n",
    "result_text = result_element.text\n",
    "\n",
    "# Print the WHOIS information\n",
    "print(result_text)\n",
    "\n",
    "# Close the browser\n",
    "driver.quit()\n"
   ]
  }
 ],
 "metadata": {
  "kernelspec": {
   "display_name": "Python 3",
   "language": "python",
   "name": "python3"
  },
  "language_info": {
   "codemirror_mode": {
    "name": "ipython",
    "version": 3
   },
   "file_extension": ".py",
   "mimetype": "text/x-python",
   "name": "python",
   "nbconvert_exporter": "python",
   "pygments_lexer": "ipython3",
   "version": "3.11.2"
  },
  "orig_nbformat": 4
 },
 "nbformat": 4,
 "nbformat_minor": 2
}
