{
 "cells": [
  {
   "cell_type": "code",
   "execution_count": 2,
   "metadata": {},
   "outputs": [
    {
     "name": "stdout",
     "output_type": "stream",
     "text": [
      "Defaulting to user installation because normal site-packages is not writeableNote: you may need to restart the kernel to use updated packages.\n",
      "\n",
      "Requirement already satisfied: selenium in c:\\users\\harshita.betala\\appdata\\roaming\\python\\python311\\site-packages (4.9.1)\n",
      "Requirement already satisfied: urllib3[socks]<3,>=1.26 in c:\\users\\harshita.betala\\appdata\\roaming\\python\\python311\\site-packages (from selenium) (2.0.2)\n",
      "Requirement already satisfied: trio~=0.17 in c:\\users\\harshita.betala\\appdata\\roaming\\python\\python311\\site-packages (from selenium) (0.22.0)\n",
      "Requirement already satisfied: trio-websocket~=0.9 in c:\\users\\harshita.betala\\appdata\\roaming\\python\\python311\\site-packages (from selenium) (0.10.2)\n",
      "Requirement already satisfied: certifi>=2021.10.8 in c:\\users\\harshita.betala\\appdata\\roaming\\python\\python311\\site-packages (from selenium) (2023.5.7)\n",
      "Requirement already satisfied: attrs>=19.2.0 in c:\\users\\harshita.betala\\appdata\\roaming\\python\\python311\\site-packages (from trio~=0.17->selenium) (23.1.0)\n",
      "Requirement already satisfied: sortedcontainers in c:\\users\\harshita.betala\\appdata\\roaming\\python\\python311\\site-packages (from trio~=0.17->selenium) (2.4.0)\n",
      "Requirement already satisfied: async-generator>=1.9 in c:\\users\\harshita.betala\\appdata\\roaming\\python\\python311\\site-packages (from trio~=0.17->selenium) (1.10)\n",
      "Requirement already satisfied: idna in c:\\users\\harshita.betala\\appdata\\roaming\\python\\python311\\site-packages (from trio~=0.17->selenium) (3.4)\n",
      "Requirement already satisfied: outcome in c:\\users\\harshita.betala\\appdata\\roaming\\python\\python311\\site-packages (from trio~=0.17->selenium) (1.2.0)\n",
      "Requirement already satisfied: sniffio in c:\\users\\harshita.betala\\appdata\\roaming\\python\\python311\\site-packages (from trio~=0.17->selenium) (1.3.0)\n",
      "Requirement already satisfied: cffi>=1.14 in c:\\users\\harshita.betala\\appdata\\roaming\\python\\python311\\site-packages (from trio~=0.17->selenium) (1.15.1)\n",
      "Requirement already satisfied: exceptiongroup in c:\\users\\harshita.betala\\appdata\\roaming\\python\\python311\\site-packages (from trio-websocket~=0.9->selenium) (1.1.1)\n",
      "Requirement already satisfied: wsproto>=0.14 in c:\\users\\harshita.betala\\appdata\\roaming\\python\\python311\\site-packages (from trio-websocket~=0.9->selenium) (1.2.0)\n",
      "Requirement already satisfied: pysocks!=1.5.7,<2.0,>=1.5.6 in c:\\users\\harshita.betala\\appdata\\roaming\\python\\python311\\site-packages (from urllib3[socks]<3,>=1.26->selenium) (1.7.1)\n",
      "Requirement already satisfied: pycparser in c:\\users\\harshita.betala\\appdata\\roaming\\python\\python311\\site-packages (from cffi>=1.14->trio~=0.17->selenium) (2.21)\n",
      "Requirement already satisfied: h11<1,>=0.9.0 in c:\\users\\harshita.betala\\appdata\\roaming\\python\\python311\\site-packages (from wsproto>=0.14->trio-websocket~=0.9->selenium) (0.14.0)\n"
     ]
    },
    {
     "name": "stderr",
     "output_type": "stream",
     "text": [
      "\n",
      "[notice] A new release of pip available: 22.3.1 -> 23.1.2\n",
      "[notice] To update, run: python.exe -m pip install --upgrade pip\n"
     ]
    }
   ],
   "source": [
    "%pip install selenium"
   ]
  },
  {
   "cell_type": "code",
   "execution_count": 3,
   "metadata": {},
   "outputs": [
    {
     "name": "stdout",
     "output_type": "stream",
     "text": [
      "Defaulting to user installation because normal site-packages is not writeable\n",
      "Requirement already satisfied: webdriver_manager in c:\\users\\harshita.betala\\appdata\\roaming\\python\\python311\\site-packages (3.8.6)\n",
      "Requirement already satisfied: requests in c:\\users\\harshita.betala\\appdata\\roaming\\python\\python311\\site-packages (from webdriver_manager) (2.30.0)\n",
      "Requirement already satisfied: python-dotenv in c:\\users\\harshita.betala\\appdata\\roaming\\python\\python311\\site-packages (from webdriver_manager) (1.0.0)\n",
      "Requirement already satisfied: tqdm in c:\\users\\harshita.betala\\appdata\\roaming\\python\\python311\\site-packages (from webdriver_manager) (4.65.0)\n",
      "Requirement already satisfied: packaging in c:\\users\\harshita.betala\\appdata\\roaming\\python\\python311\\site-packages (from webdriver_manager) (23.1)\n",
      "Requirement already satisfied: charset-normalizer<4,>=2 in c:\\users\\harshita.betala\\appdata\\roaming\\python\\python311\\site-packages (from requests->webdriver_manager) (3.1.0)\n",
      "Requirement already satisfied: idna<4,>=2.5 in c:\\users\\harshita.betala\\appdata\\roaming\\python\\python311\\site-packages (from requests->webdriver_manager) (3.4)\n",
      "Requirement already satisfied: urllib3<3,>=1.21.1 in c:\\users\\harshita.betala\\appdata\\roaming\\python\\python311\\site-packages (from requests->webdriver_manager) (2.0.2)\n",
      "Requirement already satisfied: certifi>=2017.4.17 in c:\\users\\harshita.betala\\appdata\\roaming\\python\\python311\\site-packages (from requests->webdriver_manager) (2023.5.7)\n",
      "Requirement already satisfied: colorama in c:\\users\\harshita.betala\\appdata\\roaming\\python\\python311\\site-packages (from tqdm->webdriver_manager) (0.4.6)\n",
      "Note: you may need to restart the kernel to use updated packages.\n"
     ]
    },
    {
     "name": "stderr",
     "output_type": "stream",
     "text": [
      "\n",
      "[notice] A new release of pip available: 22.3.1 -> 23.1.2\n",
      "[notice] To update, run: python.exe -m pip install --upgrade pip\n"
     ]
    }
   ],
   "source": [
    "%pip install webdriver_manager"
   ]
  },
  {
   "cell_type": "code",
   "execution_count": 4,
   "metadata": {},
   "outputs": [
    {
     "name": "stdout",
     "output_type": "stream",
     "text": [
      "No video player detected on the webpage.\n"
     ]
    }
   ],
   "source": [
    "from selenium import webdriver\n",
    "from selenium.webdriver.common.by import By\n",
    "from selenium.webdriver.chrome.options import Options\n",
    "\n",
    "# Set Chrome options to run in headless mode\n",
    "chrome_options = Options()\n",
    "chrome_options.add_argument(\"--headless\")\n",
    "\n",
    "# Create a WebDriver instance\n",
    "driver = webdriver.Chrome(options=chrome_options)\n",
    "\n",
    "# Navigate to the webpage\n",
    "driver.get(\"https://fmoviefree.sc/online/guardians-of-the-galaxy-vol-3-2023/watching.html/?ep=7\")\n",
    "\n",
    "# Find video player elements using appropriate locators\n",
    "video_players = driver.find_elements(By.TAG_NAME, \"video\")\n",
    "\n",
    "# Check if video players are found\n",
    "if video_players:\n",
    "    print(\"Video player(s) detected on the webpage.\")\n",
    "    for player in video_players:\n",
    "        # Perform actions on each video player element\n",
    "        # For example, you can get the source URL of the video\n",
    "        video_source = player.get_attribute(\"src\")\n",
    "        print(\"Video source URL:\", video_source)\n",
    "else:\n",
    "    print(\"No video player detected on the webpage.\")\n",
    "\n",
    "# Close the browser\n",
    "driver.quit()\n",
    "\n",
    "\n"
   ]
  },
  {
   "cell_type": "code",
   "execution_count": 1,
   "metadata": {},
   "outputs": [
    {
     "name": "stdout",
     "output_type": "stream",
     "text": [
      "Defaulting to user installation because normal site-packages is not writeable\n",
      "Note: you may need to restart the kernel to use updated packages.\n"
     ]
    },
    {
     "name": "stderr",
     "output_type": "stream",
     "text": [
      "ERROR: Could not find a version that satisfies the requirement selenium-flash (from versions: none)\n",
      "ERROR: No matching distribution found for selenium-flash\n",
      "\n",
      "[notice] A new release of pip available: 22.3.1 -> 23.1.2\n",
      "[notice] To update, run: python.exe -m pip install --upgrade pip\n"
     ]
    }
   ],
   "source": [
    "%pip install selenium-flash"
   ]
  },
  {
   "cell_type": "code",
   "execution_count": 4,
   "metadata": {},
   "outputs": [
    {
     "ename": "TimeoutException",
     "evalue": "Message: \nStacktrace:\nBacktrace:\n\tGetHandleVerifier [0x00A98893+48451]\n\t(No symbol) [0x00A2B8A1]\n\t(No symbol) [0x00935058]\n\t(No symbol) [0x00960467]\n\t(No symbol) [0x0096069B]\n\t(No symbol) [0x0098DD92]\n\t(No symbol) [0x0097A304]\n\t(No symbol) [0x0098C482]\n\t(No symbol) [0x0097A0B6]\n\t(No symbol) [0x00957E08]\n\t(No symbol) [0x00958F2D]\n\tGetHandleVerifier [0x00CF8E3A+2540266]\n\tGetHandleVerifier [0x00D38959+2801161]\n\tGetHandleVerifier [0x00D3295C+2776588]\n\tGetHandleVerifier [0x00B22280+612144]\n\t(No symbol) [0x00A34F6C]\n\t(No symbol) [0x00A311D8]\n\t(No symbol) [0x00A312BB]\n\t(No symbol) [0x00A24857]\n\tBaseThreadInitThunk [0x772500C9+25]\n\tRtlGetAppContainerNamedObjectPath [0x77A87B4E+286]\n\tRtlGetAppContainerNamedObjectPath [0x77A87B1E+238]\n",
     "output_type": "error",
     "traceback": [
      "\u001b[1;31m---------------------------------------------------------------------------\u001b[0m",
      "\u001b[1;31mTimeoutException\u001b[0m                          Traceback (most recent call last)",
      "Cell \u001b[1;32mIn[4], line 17\u001b[0m\n\u001b[0;32m     14\u001b[0m driver\u001b[39m.\u001b[39mswitch_to\u001b[39m.\u001b[39mframe(\u001b[39m\"\u001b[39m\u001b[39miframe-embed\u001b[39m\u001b[39m\"\u001b[39m)\n\u001b[0;32m     16\u001b[0m \u001b[39m# Locate the button within the iframe\u001b[39;00m\n\u001b[1;32m---> 17\u001b[0m button \u001b[39m=\u001b[39m WebDriverWait(driver, \u001b[39m10\u001b[39;49m)\u001b[39m.\u001b[39;49muntil(EC\u001b[39m.\u001b[39;49mpresence_of_element_located((By\u001b[39m.\u001b[39;49mXPATH, \u001b[39m\"\u001b[39;49m\u001b[39m//html/body/div[1]/div[9]/div[1]/div/div/div[2]/div\u001b[39;49m\u001b[39m\"\u001b[39;49m)))\n\u001b[0;32m     19\u001b[0m \u001b[39m# Interact with the button\u001b[39;00m\n\u001b[0;32m     20\u001b[0m button\u001b[39m.\u001b[39mclick()\n",
      "File \u001b[1;32m~\\AppData\\Roaming\\Python\\Python311\\site-packages\\selenium\\webdriver\\support\\wait.py:95\u001b[0m, in \u001b[0;36mWebDriverWait.until\u001b[1;34m(self, method, message)\u001b[0m\n\u001b[0;32m     93\u001b[0m     \u001b[39mif\u001b[39;00m time\u001b[39m.\u001b[39mmonotonic() \u001b[39m>\u001b[39m end_time:\n\u001b[0;32m     94\u001b[0m         \u001b[39mbreak\u001b[39;00m\n\u001b[1;32m---> 95\u001b[0m \u001b[39mraise\u001b[39;00m TimeoutException(message, screen, stacktrace)\n",
      "\u001b[1;31mTimeoutException\u001b[0m: Message: \nStacktrace:\nBacktrace:\n\tGetHandleVerifier [0x00A98893+48451]\n\t(No symbol) [0x00A2B8A1]\n\t(No symbol) [0x00935058]\n\t(No symbol) [0x00960467]\n\t(No symbol) [0x0096069B]\n\t(No symbol) [0x0098DD92]\n\t(No symbol) [0x0097A304]\n\t(No symbol) [0x0098C482]\n\t(No symbol) [0x0097A0B6]\n\t(No symbol) [0x00957E08]\n\t(No symbol) [0x00958F2D]\n\tGetHandleVerifier [0x00CF8E3A+2540266]\n\tGetHandleVerifier [0x00D38959+2801161]\n\tGetHandleVerifier [0x00D3295C+2776588]\n\tGetHandleVerifier [0x00B22280+612144]\n\t(No symbol) [0x00A34F6C]\n\t(No symbol) [0x00A311D8]\n\t(No symbol) [0x00A312BB]\n\t(No symbol) [0x00A24857]\n\tBaseThreadInitThunk [0x772500C9+25]\n\tRtlGetAppContainerNamedObjectPath [0x77A87B4E+286]\n\tRtlGetAppContainerNamedObjectPath [0x77A87B1E+238]\n"
     ]
    }
   ],
   "source": [
    "from selenium import webdriver\n",
    "from selenium.webdriver.common.by import By\n",
    "from selenium.webdriver.support.ui import WebDriverWait\n",
    "from selenium.webdriver.support import expected_conditions as EC\n",
    "\n",
    "# Create a WebDriver instance\n",
    "driver = webdriver.Chrome()\n",
    "\n",
    "# Navigate to the webpage containing the iframe\n",
    "driver.get(\"https://fmoviefree.sc/online/guardians-of-the-galaxy-vol-3-2023/watching.html/?ep=7\")\n",
    "\n",
    "# Switch to the iframe by locating it using its name, id, or index\n",
    "# Assuming the iframe has a name or id attribute\n",
    "driver.switch_to.frame(\"iframe-embed\")\n",
    "\n",
    "# Locate the button within the iframe\n",
    "button = WebDriverWait(driver, 10).until(EC.presence_of_element_located((By.XPATH, \"//html/body/div[1]/div[9]/div[1]/div/div/div[2]/div\")))\n",
    "\n",
    "# Interact with the button\n",
    "button.click()\n",
    "\n",
    "# Switch back to the default content (outside the iframe)\n",
    "driver.switch_to.default_content()\n",
    "\n",
    "# Continue interacting with elements outside the iframe\n",
    "# ...\n",
    "\n",
    "# Close the browser\n",
    "\n"
   ]
  },
  {
   "cell_type": "code",
   "execution_count": 3,
   "metadata": {},
   "outputs": [],
   "source": [
    "import pandas as pd\n",
    "import csv\n",
    "import uuid"
   ]
  },
  {
   "cell_type": "code",
   "execution_count": 7,
   "metadata": {},
   "outputs": [],
   "source": [
    "surl = \"https://fmoviefree.sc/online/guardians-of-the-galaxy-vol-3-2023/watching.html/\"\n",
    "existing_urls = set()\n",
    "with open(\"outputs/fmoviefree.sc/network_data.txt\", \"r\") as file:\n",
    "    for line in file:\n",
    "        existing_urls.add(line)\n",
    "        url = line.split()\n",
    "\n",
    "with open(\"outputs/Intel_Data.csv\", mode = \"w\", newline=\"\") as csv_file:\n",
    "    fieldnames = [\"domain\", \"specific_url\", \"intel_object_id\", \"intel_object_url\", \"intel_object\", \"http_return_code\", \"service\"]\n",
    "    writer = csv.DictWriter(csv_file, fieldnames=fieldnames)\n",
    "    writer.writeheader()\n",
    "    domain = surl[8:].split('/')[0]\n",
    "    specific_url = surl\n",
    "    for line in existing_urls:\n",
    "        url = line.split()\n",
    "        intel_object_id = uuid.uuid4()\n",
    "        intel_object_url = url[0]\n",
    "        if len(url) != 3:\n",
    "            intel_object = ' '.join(url[2:])\n",
    "        else:\n",
    "            intel_object = url[2]\n",
    "        http_return_code = url[1]\n",
    "        service = \"vod\"\n",
    "        writer.writerow({\"domain\":domain, \"specific_url\": specific_url, \"intel_object_id\": intel_object_id, \"intel_object_url\":intel_object_url, \"intel_object\":intel_object, \"http_return_code\": http_return_code, \"service\": service})            \n"
   ]
  }
 ],
 "metadata": {
  "kernelspec": {
   "display_name": "Python 3",
   "language": "python",
   "name": "python3"
  },
  "language_info": {
   "codemirror_mode": {
    "name": "ipython",
    "version": 3
   },
   "file_extension": ".py",
   "mimetype": "text/x-python",
   "name": "python",
   "nbconvert_exporter": "python",
   "pygments_lexer": "ipython3",
   "version": "3.11.3"
  },
  "orig_nbformat": 4
 },
 "nbformat": 4,
 "nbformat_minor": 2
}
